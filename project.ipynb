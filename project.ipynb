{
 "cells": [
  {
   "cell_type": "markdown",
   "metadata": {},
   "source": [
    "<div style=\"border:solid Chocolate 2px; padding: 40px\">\n",
    " \n",
    "<b> Яна, привет!👋</b>  \n",
    "\n",
    "Меня зовут Кирилл Васильев, я буду ревьюером твоего проекта. Я предлагаю общаться на «ты», но если привычнее на «вы», просто скажи об этом! \n",
    "\n",
    "Я буду оставлять комментарии в твоем проекте. Пожалуйста, не удаляй их, они могут быть полезны в случае повторной проверки.\n",
    "\n",
    "Свои комментарии я буду обозначать <font color='green'>зеленым</font>, <font color='gold'>желтым</font> и <font color='red'>красным</font> цветами, например:\n",
    "  \n",
    "<br/>\n",
    "\n",
    "<div class=\"alert alert-success\">\n",
    "<h2> Комментарий ревьюера <a class=\"tocSkip\"> </h2>\n",
    "\n",
    "<b>Все отлично!👍:</b> В случае, если решение на отдельном шаге является полностью правильным. Здесь же я могу давать советы и предложения.\n",
    "</div>\n",
    "\n",
    "<br/>\n",
    "\n",
    "<div class=\"alert alert-warning\">\n",
    "    <h2> Комментарий ревьюера <a class=\"tocSkip\"> </h2>\n",
    "    \n",
    "<b>Некоторые замечания и рекомендации💡:</b> В случае, когда решение на отдельном шаге станет еще лучше, если внести небольшие коррективы.\n",
    "</div> \n",
    "\n",
    "\n",
    "<br/>\n",
    "<div class=\"alert alert-block alert-danger\">\n",
    "<h2> Комментарий ревьюера <a class=\"tocSkip\"></h2>\n",
    "\n",
    "     \n",
    "<b>На доработку🤔:</b>\n",
    " В случае, когда решение на отдельном шаге требует существенной переработки и внесения правок. Напоминаю, что проект не может быть принят с первого раза, если ревью содержит комментарии, рекомендующие доработать шаги.\n",
    "</div>\n",
    "\n",
    "<br/>\n",
    "<div class=\"alert alert-info\">\n",
    "Рекомендую для твоих комментариев использовать синий или любой другой цветной фон. Я постараюсь ничего не пропустить, но если комментарии будут выделены, то это мне очень поможет!\n",
    "</div>\n",
    "    \n",
    "Увидев у тебя неточность, в первый раз я лишь укажу на ее наличие и дам тебе возможность самостоятельно найти и исправить ее. На реальной работе твой руководитель будет поступать также. Но если ты пока не справишься с такой задачей - при следующей проверке я дам более точную подсказку."
   ]
  },
  {
   "cell_type": "markdown",
   "metadata": {
    "toc": true
   },
   "source": [
    "<h1>Содержание<span class=\"tocSkip\"></span></h1>\n",
    "<div class=\"toc\"><ul class=\"toc-item\"><li><span><a href=\"#Подготовка-данных\" data-toc-modified-id=\"Подготовка-данных-1\"><span class=\"toc-item-num\">1&nbsp;&nbsp;</span>Подготовка данных</a></span></li><li><span><a href=\"#Исследование-задачи\" data-toc-modified-id=\"Исследование-задачи-2\"><span class=\"toc-item-num\">2&nbsp;&nbsp;</span>Исследование задачи</a></span></li><li><span><a href=\"#Борьба-с-дисбалансом\" data-toc-modified-id=\"Борьба-с-дисбалансом-3\"><span class=\"toc-item-num\">3&nbsp;&nbsp;</span>Борьба с дисбалансом</a></span></li><li><span><a href=\"#Тестирование-модели\" data-toc-modified-id=\"Тестирование-модели-4\"><span class=\"toc-item-num\">4&nbsp;&nbsp;</span>Тестирование модели</a></span></li><li><span><a href=\"#Чек-лист-готовности-проекта\" data-toc-modified-id=\"Чек-лист-готовности-проекта-5\"><span class=\"toc-item-num\">5&nbsp;&nbsp;</span>Чек-лист готовности проекта</a></span></li></ul></div>"
   ]
  },
  {
   "cell_type": "markdown",
   "metadata": {},
   "source": [
    "# Отток клиентов"
   ]
  },
  {
   "cell_type": "markdown",
   "metadata": {},
   "source": [
    "Из «Бета-Банка» стали уходить клиенты. Каждый месяц. Немного, но заметно. Банковские маркетологи посчитали: сохранять текущих клиентов дешевле, чем привлекать новых.\n",
    "\n",
    "Нужно спрогнозировать, уйдёт клиент из банка в ближайшее время или нет. Вам предоставлены исторические данные о поведении клиентов и расторжении договоров с банком. \n",
    "\n",
    "Постройте модель с предельно большим значением *F1*-меры. Чтобы сдать проект успешно, нужно довести метрику до 0.59. Проверьте *F1*-меру на тестовой выборке самостоятельно.\n",
    "\n",
    "Дополнительно измеряйте *AUC-ROC*, сравнивайте её значение с *F1*-мерой.\n",
    "\n",
    "Источник данных: [https://www.kaggle.com/barelydedicated/bank-customer-churn-modeling](https://www.kaggle.com/barelydedicated/bank-customer-churn-modeling)"
   ]
  },
  {
   "cell_type": "markdown",
   "metadata": {},
   "source": [
    "## Подготовка данных"
   ]
  },
  {
   "cell_type": "code",
   "execution_count": 1,
   "metadata": {},
   "outputs": [],
   "source": [
    "# импорт все необходимых библиотек\n",
    "import pandas as pd\n",
    "import numpy as np\n",
    "from sklearn.preprocessing import StandardScaler\n",
    "from sklearn.preprocessing import OrdinalEncoder\n",
    "from sklearn.model_selection import train_test_split \n",
    "from sklearn.ensemble import RandomForestClassifier \n",
    "from sklearn.linear_model import LogisticRegression \n",
    "from tqdm import tqdm\n",
    "from sklearn.metrics import ConfusionMatrixDisplay,confusion_matrix, recall_score, precision_score, f1_score\n",
    "import matplotlib.pyplot as plt\n",
    "from sklearn.utils import shuffle\n",
    "from sklearn.metrics import roc_auc_score \n",
    "from sklearn.preprocessing import StandardScaler "
   ]
  },
  {
   "cell_type": "markdown",
   "metadata": {},
   "source": [
    "<div class=\"alert alert-warning\">\n",
    "<h2> Комментарий ревьюера <a class=\"tocSkip\"> </h2>\n",
    "    \n",
    "<b>Некоторые замечания и рекомендации💡:</b> \n",
    "    \n",
    "Если загружаем несколько функций из одного пакета, то удобнее записать это через запятую.\n",
    "    \n",
    "`from sklearn.metrics import f1_score, roc_auc_score`\n",
    "    \n",
    "По аналогии можно сделать с sklearn.preprocessing .\n",
    "    \n",
    "А если через запятую будет больше трех позиций, в таком случае здесь было бы идеально привести оформление в соответствие с <a href=\"https://pythonworld.ru/osnovy/pep-8-rukovodstvo-po-napisaniyu-koda-na-python.html\">pep8</a> - не оставлять длинных строк. \n",
    "\n",
    "Такое оформление предпочтительнее:    \n",
    "    \n",
    "`from sklearn.metrics import (\n",
    "    accuracy_score, \n",
    "    confusion_matrix, \n",
    "    f1_score,\n",
    "    roc_auc_score\n",
    ")`\n",
    "    \n",
    "        \n",
    "</div>"
   ]
  },
  {
   "cell_type": "code",
   "execution_count": 2,
   "metadata": {},
   "outputs": [],
   "source": [
    "data=pd.read_csv(\"/datasets/Churn.csv\")"
   ]
  },
  {
   "cell_type": "markdown",
   "metadata": {},
   "source": [
    "ознакомимся с данными"
   ]
  },
  {
   "cell_type": "code",
   "execution_count": 3,
   "metadata": {},
   "outputs": [
    {
     "data": {
      "text/html": [
       "<div>\n",
       "<style scoped>\n",
       "    .dataframe tbody tr th:only-of-type {\n",
       "        vertical-align: middle;\n",
       "    }\n",
       "\n",
       "    .dataframe tbody tr th {\n",
       "        vertical-align: top;\n",
       "    }\n",
       "\n",
       "    .dataframe thead th {\n",
       "        text-align: right;\n",
       "    }\n",
       "</style>\n",
       "<table border=\"1\" class=\"dataframe\">\n",
       "  <thead>\n",
       "    <tr style=\"text-align: right;\">\n",
       "      <th></th>\n",
       "      <th>RowNumber</th>\n",
       "      <th>CustomerId</th>\n",
       "      <th>Surname</th>\n",
       "      <th>CreditScore</th>\n",
       "      <th>Geography</th>\n",
       "      <th>Gender</th>\n",
       "      <th>Age</th>\n",
       "      <th>Tenure</th>\n",
       "      <th>Balance</th>\n",
       "      <th>NumOfProducts</th>\n",
       "      <th>HasCrCard</th>\n",
       "      <th>IsActiveMember</th>\n",
       "      <th>EstimatedSalary</th>\n",
       "      <th>Exited</th>\n",
       "    </tr>\n",
       "  </thead>\n",
       "  <tbody>\n",
       "    <tr>\n",
       "      <th>0</th>\n",
       "      <td>1</td>\n",
       "      <td>15634602</td>\n",
       "      <td>Hargrave</td>\n",
       "      <td>619</td>\n",
       "      <td>France</td>\n",
       "      <td>Female</td>\n",
       "      <td>42</td>\n",
       "      <td>2.0</td>\n",
       "      <td>0.00</td>\n",
       "      <td>1</td>\n",
       "      <td>1</td>\n",
       "      <td>1</td>\n",
       "      <td>101348.88</td>\n",
       "      <td>1</td>\n",
       "    </tr>\n",
       "    <tr>\n",
       "      <th>1</th>\n",
       "      <td>2</td>\n",
       "      <td>15647311</td>\n",
       "      <td>Hill</td>\n",
       "      <td>608</td>\n",
       "      <td>Spain</td>\n",
       "      <td>Female</td>\n",
       "      <td>41</td>\n",
       "      <td>1.0</td>\n",
       "      <td>83807.86</td>\n",
       "      <td>1</td>\n",
       "      <td>0</td>\n",
       "      <td>1</td>\n",
       "      <td>112542.58</td>\n",
       "      <td>0</td>\n",
       "    </tr>\n",
       "    <tr>\n",
       "      <th>2</th>\n",
       "      <td>3</td>\n",
       "      <td>15619304</td>\n",
       "      <td>Onio</td>\n",
       "      <td>502</td>\n",
       "      <td>France</td>\n",
       "      <td>Female</td>\n",
       "      <td>42</td>\n",
       "      <td>8.0</td>\n",
       "      <td>159660.80</td>\n",
       "      <td>3</td>\n",
       "      <td>1</td>\n",
       "      <td>0</td>\n",
       "      <td>113931.57</td>\n",
       "      <td>1</td>\n",
       "    </tr>\n",
       "    <tr>\n",
       "      <th>3</th>\n",
       "      <td>4</td>\n",
       "      <td>15701354</td>\n",
       "      <td>Boni</td>\n",
       "      <td>699</td>\n",
       "      <td>France</td>\n",
       "      <td>Female</td>\n",
       "      <td>39</td>\n",
       "      <td>1.0</td>\n",
       "      <td>0.00</td>\n",
       "      <td>2</td>\n",
       "      <td>0</td>\n",
       "      <td>0</td>\n",
       "      <td>93826.63</td>\n",
       "      <td>0</td>\n",
       "    </tr>\n",
       "    <tr>\n",
       "      <th>4</th>\n",
       "      <td>5</td>\n",
       "      <td>15737888</td>\n",
       "      <td>Mitchell</td>\n",
       "      <td>850</td>\n",
       "      <td>Spain</td>\n",
       "      <td>Female</td>\n",
       "      <td>43</td>\n",
       "      <td>2.0</td>\n",
       "      <td>125510.82</td>\n",
       "      <td>1</td>\n",
       "      <td>1</td>\n",
       "      <td>1</td>\n",
       "      <td>79084.10</td>\n",
       "      <td>0</td>\n",
       "    </tr>\n",
       "    <tr>\n",
       "      <th>5</th>\n",
       "      <td>6</td>\n",
       "      <td>15574012</td>\n",
       "      <td>Chu</td>\n",
       "      <td>645</td>\n",
       "      <td>Spain</td>\n",
       "      <td>Male</td>\n",
       "      <td>44</td>\n",
       "      <td>8.0</td>\n",
       "      <td>113755.78</td>\n",
       "      <td>2</td>\n",
       "      <td>1</td>\n",
       "      <td>0</td>\n",
       "      <td>149756.71</td>\n",
       "      <td>1</td>\n",
       "    </tr>\n",
       "    <tr>\n",
       "      <th>6</th>\n",
       "      <td>7</td>\n",
       "      <td>15592531</td>\n",
       "      <td>Bartlett</td>\n",
       "      <td>822</td>\n",
       "      <td>France</td>\n",
       "      <td>Male</td>\n",
       "      <td>50</td>\n",
       "      <td>7.0</td>\n",
       "      <td>0.00</td>\n",
       "      <td>2</td>\n",
       "      <td>1</td>\n",
       "      <td>1</td>\n",
       "      <td>10062.80</td>\n",
       "      <td>0</td>\n",
       "    </tr>\n",
       "    <tr>\n",
       "      <th>7</th>\n",
       "      <td>8</td>\n",
       "      <td>15656148</td>\n",
       "      <td>Obinna</td>\n",
       "      <td>376</td>\n",
       "      <td>Germany</td>\n",
       "      <td>Female</td>\n",
       "      <td>29</td>\n",
       "      <td>4.0</td>\n",
       "      <td>115046.74</td>\n",
       "      <td>4</td>\n",
       "      <td>1</td>\n",
       "      <td>0</td>\n",
       "      <td>119346.88</td>\n",
       "      <td>1</td>\n",
       "    </tr>\n",
       "    <tr>\n",
       "      <th>8</th>\n",
       "      <td>9</td>\n",
       "      <td>15792365</td>\n",
       "      <td>He</td>\n",
       "      <td>501</td>\n",
       "      <td>France</td>\n",
       "      <td>Male</td>\n",
       "      <td>44</td>\n",
       "      <td>4.0</td>\n",
       "      <td>142051.07</td>\n",
       "      <td>2</td>\n",
       "      <td>0</td>\n",
       "      <td>1</td>\n",
       "      <td>74940.50</td>\n",
       "      <td>0</td>\n",
       "    </tr>\n",
       "    <tr>\n",
       "      <th>9</th>\n",
       "      <td>10</td>\n",
       "      <td>15592389</td>\n",
       "      <td>H?</td>\n",
       "      <td>684</td>\n",
       "      <td>France</td>\n",
       "      <td>Male</td>\n",
       "      <td>27</td>\n",
       "      <td>2.0</td>\n",
       "      <td>134603.88</td>\n",
       "      <td>1</td>\n",
       "      <td>1</td>\n",
       "      <td>1</td>\n",
       "      <td>71725.73</td>\n",
       "      <td>0</td>\n",
       "    </tr>\n",
       "  </tbody>\n",
       "</table>\n",
       "</div>"
      ],
      "text/plain": [
       "   RowNumber  CustomerId   Surname  CreditScore Geography  Gender  Age  \\\n",
       "0          1    15634602  Hargrave          619    France  Female   42   \n",
       "1          2    15647311      Hill          608     Spain  Female   41   \n",
       "2          3    15619304      Onio          502    France  Female   42   \n",
       "3          4    15701354      Boni          699    France  Female   39   \n",
       "4          5    15737888  Mitchell          850     Spain  Female   43   \n",
       "5          6    15574012       Chu          645     Spain    Male   44   \n",
       "6          7    15592531  Bartlett          822    France    Male   50   \n",
       "7          8    15656148    Obinna          376   Germany  Female   29   \n",
       "8          9    15792365        He          501    France    Male   44   \n",
       "9         10    15592389        H?          684    France    Male   27   \n",
       "\n",
       "   Tenure    Balance  NumOfProducts  HasCrCard  IsActiveMember  \\\n",
       "0     2.0       0.00              1          1               1   \n",
       "1     1.0   83807.86              1          0               1   \n",
       "2     8.0  159660.80              3          1               0   \n",
       "3     1.0       0.00              2          0               0   \n",
       "4     2.0  125510.82              1          1               1   \n",
       "5     8.0  113755.78              2          1               0   \n",
       "6     7.0       0.00              2          1               1   \n",
       "7     4.0  115046.74              4          1               0   \n",
       "8     4.0  142051.07              2          0               1   \n",
       "9     2.0  134603.88              1          1               1   \n",
       "\n",
       "   EstimatedSalary  Exited  \n",
       "0        101348.88       1  \n",
       "1        112542.58       0  \n",
       "2        113931.57       1  \n",
       "3         93826.63       0  \n",
       "4         79084.10       0  \n",
       "5        149756.71       1  \n",
       "6         10062.80       0  \n",
       "7        119346.88       1  \n",
       "8         74940.50       0  \n",
       "9         71725.73       0  "
      ]
     },
     "execution_count": 3,
     "metadata": {},
     "output_type": "execute_result"
    }
   ],
   "source": [
    "data.head(10)"
   ]
  },
  {
   "cell_type": "code",
   "execution_count": 4,
   "metadata": {},
   "outputs": [
    {
     "name": "stdout",
     "output_type": "stream",
     "text": [
      "<class 'pandas.core.frame.DataFrame'>\n",
      "RangeIndex: 10000 entries, 0 to 9999\n",
      "Data columns (total 14 columns):\n",
      " #   Column           Non-Null Count  Dtype  \n",
      "---  ------           --------------  -----  \n",
      " 0   RowNumber        10000 non-null  int64  \n",
      " 1   CustomerId       10000 non-null  int64  \n",
      " 2   Surname          10000 non-null  object \n",
      " 3   CreditScore      10000 non-null  int64  \n",
      " 4   Geography        10000 non-null  object \n",
      " 5   Gender           10000 non-null  object \n",
      " 6   Age              10000 non-null  int64  \n",
      " 7   Tenure           9091 non-null   float64\n",
      " 8   Balance          10000 non-null  float64\n",
      " 9   NumOfProducts    10000 non-null  int64  \n",
      " 10  HasCrCard        10000 non-null  int64  \n",
      " 11  IsActiveMember   10000 non-null  int64  \n",
      " 12  EstimatedSalary  10000 non-null  float64\n",
      " 13  Exited           10000 non-null  int64  \n",
      "dtypes: float64(3), int64(8), object(3)\n",
      "memory usage: 1.1+ MB\n"
     ]
    }
   ],
   "source": [
    "data.info()"
   ]
  },
  {
   "cell_type": "markdown",
   "metadata": {},
   "source": [
    "Только в столбце Tenure есть пропуски, посмотрим на них"
   ]
  },
  {
   "cell_type": "code",
   "execution_count": 5,
   "metadata": {
    "scrolled": true
   },
   "outputs": [
    {
     "data": {
      "text/html": [
       "<div>\n",
       "<style scoped>\n",
       "    .dataframe tbody tr th:only-of-type {\n",
       "        vertical-align: middle;\n",
       "    }\n",
       "\n",
       "    .dataframe tbody tr th {\n",
       "        vertical-align: top;\n",
       "    }\n",
       "\n",
       "    .dataframe thead th {\n",
       "        text-align: right;\n",
       "    }\n",
       "</style>\n",
       "<table border=\"1\" class=\"dataframe\">\n",
       "  <thead>\n",
       "    <tr style=\"text-align: right;\">\n",
       "      <th></th>\n",
       "      <th>RowNumber</th>\n",
       "      <th>CustomerId</th>\n",
       "      <th>Surname</th>\n",
       "      <th>CreditScore</th>\n",
       "      <th>Geography</th>\n",
       "      <th>Gender</th>\n",
       "      <th>Age</th>\n",
       "      <th>Tenure</th>\n",
       "      <th>Balance</th>\n",
       "      <th>NumOfProducts</th>\n",
       "      <th>HasCrCard</th>\n",
       "      <th>IsActiveMember</th>\n",
       "      <th>EstimatedSalary</th>\n",
       "      <th>Exited</th>\n",
       "    </tr>\n",
       "  </thead>\n",
       "  <tbody>\n",
       "    <tr>\n",
       "      <th>30</th>\n",
       "      <td>31</td>\n",
       "      <td>15589475</td>\n",
       "      <td>Azikiwe</td>\n",
       "      <td>591</td>\n",
       "      <td>Spain</td>\n",
       "      <td>Female</td>\n",
       "      <td>39</td>\n",
       "      <td>NaN</td>\n",
       "      <td>0.00</td>\n",
       "      <td>3</td>\n",
       "      <td>1</td>\n",
       "      <td>0</td>\n",
       "      <td>140469.38</td>\n",
       "      <td>1</td>\n",
       "    </tr>\n",
       "    <tr>\n",
       "      <th>48</th>\n",
       "      <td>49</td>\n",
       "      <td>15766205</td>\n",
       "      <td>Yin</td>\n",
       "      <td>550</td>\n",
       "      <td>Germany</td>\n",
       "      <td>Male</td>\n",
       "      <td>38</td>\n",
       "      <td>NaN</td>\n",
       "      <td>103391.38</td>\n",
       "      <td>1</td>\n",
       "      <td>0</td>\n",
       "      <td>1</td>\n",
       "      <td>90878.13</td>\n",
       "      <td>0</td>\n",
       "    </tr>\n",
       "    <tr>\n",
       "      <th>51</th>\n",
       "      <td>52</td>\n",
       "      <td>15768193</td>\n",
       "      <td>Trevisani</td>\n",
       "      <td>585</td>\n",
       "      <td>Germany</td>\n",
       "      <td>Male</td>\n",
       "      <td>36</td>\n",
       "      <td>NaN</td>\n",
       "      <td>146050.97</td>\n",
       "      <td>2</td>\n",
       "      <td>0</td>\n",
       "      <td>0</td>\n",
       "      <td>86424.57</td>\n",
       "      <td>0</td>\n",
       "    </tr>\n",
       "    <tr>\n",
       "      <th>53</th>\n",
       "      <td>54</td>\n",
       "      <td>15702298</td>\n",
       "      <td>Parkhill</td>\n",
       "      <td>655</td>\n",
       "      <td>Germany</td>\n",
       "      <td>Male</td>\n",
       "      <td>41</td>\n",
       "      <td>NaN</td>\n",
       "      <td>125561.97</td>\n",
       "      <td>1</td>\n",
       "      <td>0</td>\n",
       "      <td>0</td>\n",
       "      <td>164040.94</td>\n",
       "      <td>1</td>\n",
       "    </tr>\n",
       "    <tr>\n",
       "      <th>60</th>\n",
       "      <td>61</td>\n",
       "      <td>15651280</td>\n",
       "      <td>Hunter</td>\n",
       "      <td>742</td>\n",
       "      <td>Germany</td>\n",
       "      <td>Male</td>\n",
       "      <td>35</td>\n",
       "      <td>NaN</td>\n",
       "      <td>136857.00</td>\n",
       "      <td>1</td>\n",
       "      <td>0</td>\n",
       "      <td>0</td>\n",
       "      <td>84509.57</td>\n",
       "      <td>0</td>\n",
       "    </tr>\n",
       "    <tr>\n",
       "      <th>...</th>\n",
       "      <td>...</td>\n",
       "      <td>...</td>\n",
       "      <td>...</td>\n",
       "      <td>...</td>\n",
       "      <td>...</td>\n",
       "      <td>...</td>\n",
       "      <td>...</td>\n",
       "      <td>...</td>\n",
       "      <td>...</td>\n",
       "      <td>...</td>\n",
       "      <td>...</td>\n",
       "      <td>...</td>\n",
       "      <td>...</td>\n",
       "      <td>...</td>\n",
       "    </tr>\n",
       "    <tr>\n",
       "      <th>9944</th>\n",
       "      <td>9945</td>\n",
       "      <td>15703923</td>\n",
       "      <td>Cameron</td>\n",
       "      <td>744</td>\n",
       "      <td>Germany</td>\n",
       "      <td>Male</td>\n",
       "      <td>41</td>\n",
       "      <td>NaN</td>\n",
       "      <td>190409.34</td>\n",
       "      <td>2</td>\n",
       "      <td>1</td>\n",
       "      <td>1</td>\n",
       "      <td>138361.48</td>\n",
       "      <td>0</td>\n",
       "    </tr>\n",
       "    <tr>\n",
       "      <th>9956</th>\n",
       "      <td>9957</td>\n",
       "      <td>15707861</td>\n",
       "      <td>Nucci</td>\n",
       "      <td>520</td>\n",
       "      <td>France</td>\n",
       "      <td>Female</td>\n",
       "      <td>46</td>\n",
       "      <td>NaN</td>\n",
       "      <td>85216.61</td>\n",
       "      <td>1</td>\n",
       "      <td>1</td>\n",
       "      <td>0</td>\n",
       "      <td>117369.52</td>\n",
       "      <td>1</td>\n",
       "    </tr>\n",
       "    <tr>\n",
       "      <th>9964</th>\n",
       "      <td>9965</td>\n",
       "      <td>15642785</td>\n",
       "      <td>Douglas</td>\n",
       "      <td>479</td>\n",
       "      <td>France</td>\n",
       "      <td>Male</td>\n",
       "      <td>34</td>\n",
       "      <td>NaN</td>\n",
       "      <td>117593.48</td>\n",
       "      <td>2</td>\n",
       "      <td>0</td>\n",
       "      <td>0</td>\n",
       "      <td>113308.29</td>\n",
       "      <td>0</td>\n",
       "    </tr>\n",
       "    <tr>\n",
       "      <th>9985</th>\n",
       "      <td>9986</td>\n",
       "      <td>15586914</td>\n",
       "      <td>Nepean</td>\n",
       "      <td>659</td>\n",
       "      <td>France</td>\n",
       "      <td>Male</td>\n",
       "      <td>36</td>\n",
       "      <td>NaN</td>\n",
       "      <td>123841.49</td>\n",
       "      <td>2</td>\n",
       "      <td>1</td>\n",
       "      <td>0</td>\n",
       "      <td>96833.00</td>\n",
       "      <td>0</td>\n",
       "    </tr>\n",
       "    <tr>\n",
       "      <th>9999</th>\n",
       "      <td>10000</td>\n",
       "      <td>15628319</td>\n",
       "      <td>Walker</td>\n",
       "      <td>792</td>\n",
       "      <td>France</td>\n",
       "      <td>Female</td>\n",
       "      <td>28</td>\n",
       "      <td>NaN</td>\n",
       "      <td>130142.79</td>\n",
       "      <td>1</td>\n",
       "      <td>1</td>\n",
       "      <td>0</td>\n",
       "      <td>38190.78</td>\n",
       "      <td>0</td>\n",
       "    </tr>\n",
       "  </tbody>\n",
       "</table>\n",
       "<p>909 rows × 14 columns</p>\n",
       "</div>"
      ],
      "text/plain": [
       "      RowNumber  CustomerId    Surname  CreditScore Geography  Gender  Age  \\\n",
       "30           31    15589475    Azikiwe          591     Spain  Female   39   \n",
       "48           49    15766205        Yin          550   Germany    Male   38   \n",
       "51           52    15768193  Trevisani          585   Germany    Male   36   \n",
       "53           54    15702298   Parkhill          655   Germany    Male   41   \n",
       "60           61    15651280     Hunter          742   Germany    Male   35   \n",
       "...         ...         ...        ...          ...       ...     ...  ...   \n",
       "9944       9945    15703923    Cameron          744   Germany    Male   41   \n",
       "9956       9957    15707861      Nucci          520    France  Female   46   \n",
       "9964       9965    15642785    Douglas          479    France    Male   34   \n",
       "9985       9986    15586914     Nepean          659    France    Male   36   \n",
       "9999      10000    15628319     Walker          792    France  Female   28   \n",
       "\n",
       "      Tenure    Balance  NumOfProducts  HasCrCard  IsActiveMember  \\\n",
       "30       NaN       0.00              3          1               0   \n",
       "48       NaN  103391.38              1          0               1   \n",
       "51       NaN  146050.97              2          0               0   \n",
       "53       NaN  125561.97              1          0               0   \n",
       "60       NaN  136857.00              1          0               0   \n",
       "...      ...        ...            ...        ...             ...   \n",
       "9944     NaN  190409.34              2          1               1   \n",
       "9956     NaN   85216.61              1          1               0   \n",
       "9964     NaN  117593.48              2          0               0   \n",
       "9985     NaN  123841.49              2          1               0   \n",
       "9999     NaN  130142.79              1          1               0   \n",
       "\n",
       "      EstimatedSalary  Exited  \n",
       "30          140469.38       1  \n",
       "48           90878.13       0  \n",
       "51           86424.57       0  \n",
       "53          164040.94       1  \n",
       "60           84509.57       0  \n",
       "...               ...     ...  \n",
       "9944        138361.48       0  \n",
       "9956        117369.52       1  \n",
       "9964        113308.29       0  \n",
       "9985         96833.00       0  \n",
       "9999         38190.78       0  \n",
       "\n",
       "[909 rows x 14 columns]"
      ]
     },
     "execution_count": 5,
     "metadata": {},
     "output_type": "execute_result"
    }
   ],
   "source": [
    "data[data.isnull().any(axis=1)]\n"
   ]
  },
  {
   "cell_type": "markdown",
   "metadata": {},
   "source": [
    "Так как нет возможности как-то заполнит эти данные, а показатель является выжным для анализа, удалим эти строки из данных"
   ]
  },
  {
   "cell_type": "code",
   "execution_count": 6,
   "metadata": {},
   "outputs": [],
   "source": [
    "data=data.dropna()"
   ]
  },
  {
   "cell_type": "markdown",
   "metadata": {},
   "source": [
    "<div class=\"alert alert-success\">\n",
    "<h2> Комментарий ревьюера <a class=\"tocSkip\"> </h2>\n",
    "\n",
    "👍 Отлично. С решением и аргументацией согласен. Отлично, что не забываешь аргументировать!\n",
    "</div> \n"
   ]
  },
  {
   "cell_type": "code",
   "execution_count": 7,
   "metadata": {},
   "outputs": [
    {
     "name": "stdout",
     "output_type": "stream",
     "text": [
      "<class 'pandas.core.frame.DataFrame'>\n",
      "Int64Index: 9091 entries, 0 to 9998\n",
      "Data columns (total 14 columns):\n",
      " #   Column           Non-Null Count  Dtype  \n",
      "---  ------           --------------  -----  \n",
      " 0   RowNumber        9091 non-null   int64  \n",
      " 1   CustomerId       9091 non-null   int64  \n",
      " 2   Surname          9091 non-null   object \n",
      " 3   CreditScore      9091 non-null   int64  \n",
      " 4   Geography        9091 non-null   object \n",
      " 5   Gender           9091 non-null   object \n",
      " 6   Age              9091 non-null   int64  \n",
      " 7   Tenure           9091 non-null   float64\n",
      " 8   Balance          9091 non-null   float64\n",
      " 9   NumOfProducts    9091 non-null   int64  \n",
      " 10  HasCrCard        9091 non-null   int64  \n",
      " 11  IsActiveMember   9091 non-null   int64  \n",
      " 12  EstimatedSalary  9091 non-null   float64\n",
      " 13  Exited           9091 non-null   int64  \n",
      "dtypes: float64(3), int64(8), object(3)\n",
      "memory usage: 1.0+ MB\n"
     ]
    }
   ],
   "source": [
    "data.info()"
   ]
  },
  {
   "cell_type": "code",
   "execution_count": 8,
   "metadata": {},
   "outputs": [
    {
     "data": {
      "text/plain": [
       "0"
      ]
     },
     "execution_count": 8,
     "metadata": {},
     "output_type": "execute_result"
    }
   ],
   "source": [
    "#проверка на наличие дубликатов\n",
    "data.duplicated().sum()"
   ]
  },
  {
   "cell_type": "code",
   "execution_count": 9,
   "metadata": {},
   "outputs": [
    {
     "data": {
      "text/html": [
       "<div>\n",
       "<style scoped>\n",
       "    .dataframe tbody tr th:only-of-type {\n",
       "        vertical-align: middle;\n",
       "    }\n",
       "\n",
       "    .dataframe tbody tr th {\n",
       "        vertical-align: top;\n",
       "    }\n",
       "\n",
       "    .dataframe thead th {\n",
       "        text-align: right;\n",
       "    }\n",
       "</style>\n",
       "<table border=\"1\" class=\"dataframe\">\n",
       "  <thead>\n",
       "    <tr style=\"text-align: right;\">\n",
       "      <th></th>\n",
       "      <th>RowNumber</th>\n",
       "      <th>CustomerId</th>\n",
       "      <th>CreditScore</th>\n",
       "      <th>Age</th>\n",
       "      <th>Tenure</th>\n",
       "      <th>Balance</th>\n",
       "      <th>NumOfProducts</th>\n",
       "      <th>HasCrCard</th>\n",
       "      <th>IsActiveMember</th>\n",
       "      <th>EstimatedSalary</th>\n",
       "      <th>Exited</th>\n",
       "    </tr>\n",
       "  </thead>\n",
       "  <tbody>\n",
       "    <tr>\n",
       "      <th>count</th>\n",
       "      <td>9091.000000</td>\n",
       "      <td>9.091000e+03</td>\n",
       "      <td>9091.000000</td>\n",
       "      <td>9091.000000</td>\n",
       "      <td>9091.000000</td>\n",
       "      <td>9091.000000</td>\n",
       "      <td>9091.000000</td>\n",
       "      <td>9091.000000</td>\n",
       "      <td>9091.000000</td>\n",
       "      <td>9091.000000</td>\n",
       "      <td>9091.000000</td>\n",
       "    </tr>\n",
       "    <tr>\n",
       "      <th>mean</th>\n",
       "      <td>5013.909911</td>\n",
       "      <td>1.569105e+07</td>\n",
       "      <td>650.736553</td>\n",
       "      <td>38.949181</td>\n",
       "      <td>4.997690</td>\n",
       "      <td>76522.740015</td>\n",
       "      <td>1.530195</td>\n",
       "      <td>0.704983</td>\n",
       "      <td>0.515565</td>\n",
       "      <td>100181.214924</td>\n",
       "      <td>0.203938</td>\n",
       "    </tr>\n",
       "    <tr>\n",
       "      <th>std</th>\n",
       "      <td>2884.433466</td>\n",
       "      <td>7.161419e+04</td>\n",
       "      <td>96.410471</td>\n",
       "      <td>10.555581</td>\n",
       "      <td>2.894723</td>\n",
       "      <td>62329.528576</td>\n",
       "      <td>0.581003</td>\n",
       "      <td>0.456076</td>\n",
       "      <td>0.499785</td>\n",
       "      <td>57624.755647</td>\n",
       "      <td>0.402946</td>\n",
       "    </tr>\n",
       "    <tr>\n",
       "      <th>min</th>\n",
       "      <td>1.000000</td>\n",
       "      <td>1.556570e+07</td>\n",
       "      <td>350.000000</td>\n",
       "      <td>18.000000</td>\n",
       "      <td>0.000000</td>\n",
       "      <td>0.000000</td>\n",
       "      <td>1.000000</td>\n",
       "      <td>0.000000</td>\n",
       "      <td>0.000000</td>\n",
       "      <td>11.580000</td>\n",
       "      <td>0.000000</td>\n",
       "    </tr>\n",
       "    <tr>\n",
       "      <th>25%</th>\n",
       "      <td>2521.500000</td>\n",
       "      <td>1.562899e+07</td>\n",
       "      <td>584.000000</td>\n",
       "      <td>32.000000</td>\n",
       "      <td>2.000000</td>\n",
       "      <td>0.000000</td>\n",
       "      <td>1.000000</td>\n",
       "      <td>0.000000</td>\n",
       "      <td>0.000000</td>\n",
       "      <td>51227.745000</td>\n",
       "      <td>0.000000</td>\n",
       "    </tr>\n",
       "    <tr>\n",
       "      <th>50%</th>\n",
       "      <td>5019.000000</td>\n",
       "      <td>1.569106e+07</td>\n",
       "      <td>652.000000</td>\n",
       "      <td>37.000000</td>\n",
       "      <td>5.000000</td>\n",
       "      <td>97318.250000</td>\n",
       "      <td>1.000000</td>\n",
       "      <td>1.000000</td>\n",
       "      <td>1.000000</td>\n",
       "      <td>100240.200000</td>\n",
       "      <td>0.000000</td>\n",
       "    </tr>\n",
       "    <tr>\n",
       "      <th>75%</th>\n",
       "      <td>7511.500000</td>\n",
       "      <td>1.575285e+07</td>\n",
       "      <td>717.000000</td>\n",
       "      <td>44.000000</td>\n",
       "      <td>7.000000</td>\n",
       "      <td>127561.890000</td>\n",
       "      <td>2.000000</td>\n",
       "      <td>1.000000</td>\n",
       "      <td>1.000000</td>\n",
       "      <td>149567.210000</td>\n",
       "      <td>0.000000</td>\n",
       "    </tr>\n",
       "    <tr>\n",
       "      <th>max</th>\n",
       "      <td>9999.000000</td>\n",
       "      <td>1.581566e+07</td>\n",
       "      <td>850.000000</td>\n",
       "      <td>92.000000</td>\n",
       "      <td>10.000000</td>\n",
       "      <td>250898.090000</td>\n",
       "      <td>4.000000</td>\n",
       "      <td>1.000000</td>\n",
       "      <td>1.000000</td>\n",
       "      <td>199992.480000</td>\n",
       "      <td>1.000000</td>\n",
       "    </tr>\n",
       "  </tbody>\n",
       "</table>\n",
       "</div>"
      ],
      "text/plain": [
       "         RowNumber    CustomerId  CreditScore          Age       Tenure  \\\n",
       "count  9091.000000  9.091000e+03  9091.000000  9091.000000  9091.000000   \n",
       "mean   5013.909911  1.569105e+07   650.736553    38.949181     4.997690   \n",
       "std    2884.433466  7.161419e+04    96.410471    10.555581     2.894723   \n",
       "min       1.000000  1.556570e+07   350.000000    18.000000     0.000000   \n",
       "25%    2521.500000  1.562899e+07   584.000000    32.000000     2.000000   \n",
       "50%    5019.000000  1.569106e+07   652.000000    37.000000     5.000000   \n",
       "75%    7511.500000  1.575285e+07   717.000000    44.000000     7.000000   \n",
       "max    9999.000000  1.581566e+07   850.000000    92.000000    10.000000   \n",
       "\n",
       "             Balance  NumOfProducts    HasCrCard  IsActiveMember  \\\n",
       "count    9091.000000    9091.000000  9091.000000     9091.000000   \n",
       "mean    76522.740015       1.530195     0.704983        0.515565   \n",
       "std     62329.528576       0.581003     0.456076        0.499785   \n",
       "min         0.000000       1.000000     0.000000        0.000000   \n",
       "25%         0.000000       1.000000     0.000000        0.000000   \n",
       "50%     97318.250000       1.000000     1.000000        1.000000   \n",
       "75%    127561.890000       2.000000     1.000000        1.000000   \n",
       "max    250898.090000       4.000000     1.000000        1.000000   \n",
       "\n",
       "       EstimatedSalary       Exited  \n",
       "count      9091.000000  9091.000000  \n",
       "mean     100181.214924     0.203938  \n",
       "std       57624.755647     0.402946  \n",
       "min          11.580000     0.000000  \n",
       "25%       51227.745000     0.000000  \n",
       "50%      100240.200000     0.000000  \n",
       "75%      149567.210000     0.000000  \n",
       "max      199992.480000     1.000000  "
      ]
     },
     "execution_count": 9,
     "metadata": {},
     "output_type": "execute_result"
    }
   ],
   "source": [
    "data.describe()"
   ]
  },
  {
   "cell_type": "markdown",
   "metadata": {},
   "source": [
    "<div class=\"alert alert-success\">\n",
    "<h2> Комментарий ревьюера <a class=\"tocSkip\"> </h2>\n",
    "\n",
    "👍 Отлично. Здесь можно передать аргументы, чтобы информация отображалась и по переменным с нечисленными типами данных.\n",
    "      \n",
    "`describe(include='all')`\n",
    "    \n",
    "Возможно, удобнее будет смотреть, если транспонировать таблицу.\n",
    "\n",
    "`data.describe(include='all').T`\n",
    "</div>\n"
   ]
  },
  {
   "cell_type": "markdown",
   "metadata": {},
   "source": [
    "## Исследование задачи"
   ]
  },
  {
   "cell_type": "markdown",
   "metadata": {},
   "source": [
    "Проверим датасет на сбалансированность классов в таргете (факт ухода клиента)"
   ]
  },
  {
   "cell_type": "code",
   "execution_count": 10,
   "metadata": {},
   "outputs": [
    {
     "data": {
      "text/plain": [
       "0    0.796062\n",
       "1    0.203938\n",
       "Name: Exited, dtype: float64"
      ]
     },
     "execution_count": 10,
     "metadata": {},
     "output_type": "execute_result"
    }
   ],
   "source": [
    "data[\"Exited\"].value_counts()/len(data)"
   ]
  },
  {
   "cell_type": "markdown",
   "metadata": {},
   "source": [
    "соотношения 80 на 20, можно говорить о том, что данные несбалансированные"
   ]
  },
  {
   "cell_type": "markdown",
   "metadata": {},
   "source": [
    "<div class=\"alert alert-success\">\n",
    "<h2> Комментарий ревьюера <a class=\"tocSkip\"> </h2>\n",
    " \n",
    "👍  Верно. Дисбаланс запомним. 1:4.\n",
    "</div>  "
   ]
  },
  {
   "cell_type": "code",
   "execution_count": 11,
   "metadata": {},
   "outputs": [
    {
     "data": {
      "text/html": [
       "<div>\n",
       "<style scoped>\n",
       "    .dataframe tbody tr th:only-of-type {\n",
       "        vertical-align: middle;\n",
       "    }\n",
       "\n",
       "    .dataframe tbody tr th {\n",
       "        vertical-align: top;\n",
       "    }\n",
       "\n",
       "    .dataframe thead th {\n",
       "        text-align: right;\n",
       "    }\n",
       "</style>\n",
       "<table border=\"1\" class=\"dataframe\">\n",
       "  <thead>\n",
       "    <tr style=\"text-align: right;\">\n",
       "      <th></th>\n",
       "      <th>RowNumber</th>\n",
       "      <th>CustomerId</th>\n",
       "      <th>CreditScore</th>\n",
       "      <th>Age</th>\n",
       "      <th>Tenure</th>\n",
       "      <th>Balance</th>\n",
       "      <th>NumOfProducts</th>\n",
       "      <th>HasCrCard</th>\n",
       "      <th>IsActiveMember</th>\n",
       "      <th>EstimatedSalary</th>\n",
       "      <th>Exited</th>\n",
       "    </tr>\n",
       "  </thead>\n",
       "  <tbody>\n",
       "    <tr>\n",
       "      <th>RowNumber</th>\n",
       "      <td>1.000000</td>\n",
       "      <td>0.004289</td>\n",
       "      <td>0.002330</td>\n",
       "      <td>0.000681</td>\n",
       "      <td>-0.007322</td>\n",
       "      <td>-0.005921</td>\n",
       "      <td>0.009078</td>\n",
       "      <td>0.001248</td>\n",
       "      <td>0.009536</td>\n",
       "      <td>-0.004854</td>\n",
       "      <td>-0.014562</td>\n",
       "    </tr>\n",
       "    <tr>\n",
       "      <th>CustomerId</th>\n",
       "      <td>0.004289</td>\n",
       "      <td>1.000000</td>\n",
       "      <td>-0.001610</td>\n",
       "      <td>0.010379</td>\n",
       "      <td>-0.021418</td>\n",
       "      <td>-0.007445</td>\n",
       "      <td>0.014604</td>\n",
       "      <td>-0.019891</td>\n",
       "      <td>0.001499</td>\n",
       "      <td>0.010029</td>\n",
       "      <td>-0.007040</td>\n",
       "    </tr>\n",
       "    <tr>\n",
       "      <th>CreditScore</th>\n",
       "      <td>0.002330</td>\n",
       "      <td>-0.001610</td>\n",
       "      <td>1.000000</td>\n",
       "      <td>-0.004504</td>\n",
       "      <td>-0.000062</td>\n",
       "      <td>0.002804</td>\n",
       "      <td>0.011090</td>\n",
       "      <td>-0.003937</td>\n",
       "      <td>0.030947</td>\n",
       "      <td>0.005182</td>\n",
       "      <td>-0.023950</td>\n",
       "    </tr>\n",
       "    <tr>\n",
       "      <th>Age</th>\n",
       "      <td>0.000681</td>\n",
       "      <td>0.010379</td>\n",
       "      <td>-0.004504</td>\n",
       "      <td>1.000000</td>\n",
       "      <td>-0.013134</td>\n",
       "      <td>0.031481</td>\n",
       "      <td>-0.031877</td>\n",
       "      <td>-0.014129</td>\n",
       "      <td>0.082269</td>\n",
       "      <td>-0.007037</td>\n",
       "      <td>0.283017</td>\n",
       "    </tr>\n",
       "    <tr>\n",
       "      <th>Tenure</th>\n",
       "      <td>-0.007322</td>\n",
       "      <td>-0.021418</td>\n",
       "      <td>-0.000062</td>\n",
       "      <td>-0.013134</td>\n",
       "      <td>1.000000</td>\n",
       "      <td>-0.007911</td>\n",
       "      <td>0.011979</td>\n",
       "      <td>0.027232</td>\n",
       "      <td>-0.032178</td>\n",
       "      <td>0.010520</td>\n",
       "      <td>-0.016761</td>\n",
       "    </tr>\n",
       "    <tr>\n",
       "      <th>Balance</th>\n",
       "      <td>-0.005921</td>\n",
       "      <td>-0.007445</td>\n",
       "      <td>0.002804</td>\n",
       "      <td>0.031481</td>\n",
       "      <td>-0.007911</td>\n",
       "      <td>1.000000</td>\n",
       "      <td>-0.301858</td>\n",
       "      <td>-0.019055</td>\n",
       "      <td>-0.003285</td>\n",
       "      <td>0.014351</td>\n",
       "      <td>0.117218</td>\n",
       "    </tr>\n",
       "    <tr>\n",
       "      <th>NumOfProducts</th>\n",
       "      <td>0.009078</td>\n",
       "      <td>0.014604</td>\n",
       "      <td>0.011090</td>\n",
       "      <td>-0.031877</td>\n",
       "      <td>0.011979</td>\n",
       "      <td>-0.301858</td>\n",
       "      <td>1.000000</td>\n",
       "      <td>0.005805</td>\n",
       "      <td>0.009084</td>\n",
       "      <td>0.013990</td>\n",
       "      <td>-0.050271</td>\n",
       "    </tr>\n",
       "    <tr>\n",
       "      <th>HasCrCard</th>\n",
       "      <td>0.001248</td>\n",
       "      <td>-0.019891</td>\n",
       "      <td>-0.003937</td>\n",
       "      <td>-0.014129</td>\n",
       "      <td>0.027232</td>\n",
       "      <td>-0.019055</td>\n",
       "      <td>0.005805</td>\n",
       "      <td>1.000000</td>\n",
       "      <td>-0.008810</td>\n",
       "      <td>-0.006136</td>\n",
       "      <td>-0.005411</td>\n",
       "    </tr>\n",
       "    <tr>\n",
       "      <th>IsActiveMember</th>\n",
       "      <td>0.009536</td>\n",
       "      <td>0.001499</td>\n",
       "      <td>0.030947</td>\n",
       "      <td>0.082269</td>\n",
       "      <td>-0.032178</td>\n",
       "      <td>-0.003285</td>\n",
       "      <td>0.009084</td>\n",
       "      <td>-0.008810</td>\n",
       "      <td>1.000000</td>\n",
       "      <td>-0.020049</td>\n",
       "      <td>-0.155062</td>\n",
       "    </tr>\n",
       "    <tr>\n",
       "      <th>EstimatedSalary</th>\n",
       "      <td>-0.004854</td>\n",
       "      <td>0.010029</td>\n",
       "      <td>0.005182</td>\n",
       "      <td>-0.007037</td>\n",
       "      <td>0.010520</td>\n",
       "      <td>0.014351</td>\n",
       "      <td>0.013990</td>\n",
       "      <td>-0.006136</td>\n",
       "      <td>-0.020049</td>\n",
       "      <td>1.000000</td>\n",
       "      <td>0.016029</td>\n",
       "    </tr>\n",
       "    <tr>\n",
       "      <th>Exited</th>\n",
       "      <td>-0.014562</td>\n",
       "      <td>-0.007040</td>\n",
       "      <td>-0.023950</td>\n",
       "      <td>0.283017</td>\n",
       "      <td>-0.016761</td>\n",
       "      <td>0.117218</td>\n",
       "      <td>-0.050271</td>\n",
       "      <td>-0.005411</td>\n",
       "      <td>-0.155062</td>\n",
       "      <td>0.016029</td>\n",
       "      <td>1.000000</td>\n",
       "    </tr>\n",
       "  </tbody>\n",
       "</table>\n",
       "</div>"
      ],
      "text/plain": [
       "                 RowNumber  CustomerId  CreditScore       Age    Tenure  \\\n",
       "RowNumber         1.000000    0.004289     0.002330  0.000681 -0.007322   \n",
       "CustomerId        0.004289    1.000000    -0.001610  0.010379 -0.021418   \n",
       "CreditScore       0.002330   -0.001610     1.000000 -0.004504 -0.000062   \n",
       "Age               0.000681    0.010379    -0.004504  1.000000 -0.013134   \n",
       "Tenure           -0.007322   -0.021418    -0.000062 -0.013134  1.000000   \n",
       "Balance          -0.005921   -0.007445     0.002804  0.031481 -0.007911   \n",
       "NumOfProducts     0.009078    0.014604     0.011090 -0.031877  0.011979   \n",
       "HasCrCard         0.001248   -0.019891    -0.003937 -0.014129  0.027232   \n",
       "IsActiveMember    0.009536    0.001499     0.030947  0.082269 -0.032178   \n",
       "EstimatedSalary  -0.004854    0.010029     0.005182 -0.007037  0.010520   \n",
       "Exited           -0.014562   -0.007040    -0.023950  0.283017 -0.016761   \n",
       "\n",
       "                  Balance  NumOfProducts  HasCrCard  IsActiveMember  \\\n",
       "RowNumber       -0.005921       0.009078   0.001248        0.009536   \n",
       "CustomerId      -0.007445       0.014604  -0.019891        0.001499   \n",
       "CreditScore      0.002804       0.011090  -0.003937        0.030947   \n",
       "Age              0.031481      -0.031877  -0.014129        0.082269   \n",
       "Tenure          -0.007911       0.011979   0.027232       -0.032178   \n",
       "Balance          1.000000      -0.301858  -0.019055       -0.003285   \n",
       "NumOfProducts   -0.301858       1.000000   0.005805        0.009084   \n",
       "HasCrCard       -0.019055       0.005805   1.000000       -0.008810   \n",
       "IsActiveMember  -0.003285       0.009084  -0.008810        1.000000   \n",
       "EstimatedSalary  0.014351       0.013990  -0.006136       -0.020049   \n",
       "Exited           0.117218      -0.050271  -0.005411       -0.155062   \n",
       "\n",
       "                 EstimatedSalary    Exited  \n",
       "RowNumber              -0.004854 -0.014562  \n",
       "CustomerId              0.010029 -0.007040  \n",
       "CreditScore             0.005182 -0.023950  \n",
       "Age                    -0.007037  0.283017  \n",
       "Tenure                  0.010520 -0.016761  \n",
       "Balance                 0.014351  0.117218  \n",
       "NumOfProducts           0.013990 -0.050271  \n",
       "HasCrCard              -0.006136 -0.005411  \n",
       "IsActiveMember         -0.020049 -0.155062  \n",
       "EstimatedSalary         1.000000  0.016029  \n",
       "Exited                  0.016029  1.000000  "
      ]
     },
     "execution_count": 11,
     "metadata": {},
     "output_type": "execute_result"
    }
   ],
   "source": [
    "#посмотрим корреляцию между данными\n",
    "\n",
    "data.corr()"
   ]
  },
  {
   "cell_type": "markdown",
   "metadata": {},
   "source": [
    "корреляция между признаками невысокая"
   ]
  },
  {
   "cell_type": "markdown",
   "metadata": {},
   "source": [
    "<div class=\"alert alert-success\">\n",
    "<h2> Комментарий ревьюера <a class=\"tocSkip\"> </h2>\n",
    " \n",
    "👍 Точно.\n",
    "</div>  "
   ]
  },
  {
   "cell_type": "markdown",
   "metadata": {},
   "source": [
    "<b>Обучение модели</b></font>"
   ]
  },
  {
   "cell_type": "code",
   "execution_count": 12,
   "metadata": {},
   "outputs": [],
   "source": [
    "#уберем столцы, которые содржат уникальные признаки\n",
    "data=data.drop([\"RowNumber\",\"CustomerId\",\"Surname\"], axis=1)"
   ]
  },
  {
   "cell_type": "markdown",
   "metadata": {},
   "source": [
    "<div class=\"alert alert-success\">\n",
    "<h2> Комментарий ревьюера <a class=\"tocSkip\"> </h2>\n",
    "\n",
    "👍 Всё верно  \n",
    "</div>  "
   ]
  },
  {
   "cell_type": "code",
   "execution_count": 13,
   "metadata": {},
   "outputs": [],
   "source": [
    "#Преобразуем категориальный признаки техникой OHE\n",
    "data=pd.get_dummies(data,drop_first= True)"
   ]
  },
  {
   "cell_type": "markdown",
   "metadata": {},
   "source": [
    "<div class=\"alert alert-block alert-danger\">\n",
    "<h2><s> Комментарий ревьюера <a class=\"tocSkip\"></h2>\n",
    "  \n",
    "<b>На доработку🤔:</b>\n",
    " \n",
    "Здесь следует  избегать dummy-ловушки, удаляя одну из колонок и исключая мультиколлинеарность. ( `drop_first= True`)\n",
    "\n",
    "Подробнее: https://www.codecamp.ru/blog/pandas-get-dummies/ \n",
    "\n",
    "</div>"
   ]
  },
  {
   "cell_type": "markdown",
   "metadata": {},
   "source": [
    "<br/>\n",
    "<div class=\"alert alert-info\">\n",
    "Поправила\n",
    "</div>"
   ]
  },
  {
   "cell_type": "markdown",
   "metadata": {},
   "source": [
    "<div class=\"alert alert-success\">\n",
    "<h2> Комментарий ревьюера #2 <a class=\"tocSkip\"> </h2>\n",
    "\n",
    "👍 Cнова привет. Спасибо за заметное оформление твоих комментариев. По исправлениям отлично.\n",
    "</div>"
   ]
  },
  {
   "cell_type": "code",
   "execution_count": 14,
   "metadata": {},
   "outputs": [
    {
     "data": {
      "text/html": [
       "<div>\n",
       "<style scoped>\n",
       "    .dataframe tbody tr th:only-of-type {\n",
       "        vertical-align: middle;\n",
       "    }\n",
       "\n",
       "    .dataframe tbody tr th {\n",
       "        vertical-align: top;\n",
       "    }\n",
       "\n",
       "    .dataframe thead th {\n",
       "        text-align: right;\n",
       "    }\n",
       "</style>\n",
       "<table border=\"1\" class=\"dataframe\">\n",
       "  <thead>\n",
       "    <tr style=\"text-align: right;\">\n",
       "      <th></th>\n",
       "      <th>CreditScore</th>\n",
       "      <th>Age</th>\n",
       "      <th>Tenure</th>\n",
       "      <th>Balance</th>\n",
       "      <th>NumOfProducts</th>\n",
       "      <th>HasCrCard</th>\n",
       "      <th>IsActiveMember</th>\n",
       "      <th>EstimatedSalary</th>\n",
       "      <th>Exited</th>\n",
       "      <th>Geography_Germany</th>\n",
       "      <th>Geography_Spain</th>\n",
       "      <th>Gender_Male</th>\n",
       "    </tr>\n",
       "  </thead>\n",
       "  <tbody>\n",
       "    <tr>\n",
       "      <th>0</th>\n",
       "      <td>619</td>\n",
       "      <td>42</td>\n",
       "      <td>2.0</td>\n",
       "      <td>0.00</td>\n",
       "      <td>1</td>\n",
       "      <td>1</td>\n",
       "      <td>1</td>\n",
       "      <td>101348.88</td>\n",
       "      <td>1</td>\n",
       "      <td>0</td>\n",
       "      <td>0</td>\n",
       "      <td>0</td>\n",
       "    </tr>\n",
       "    <tr>\n",
       "      <th>1</th>\n",
       "      <td>608</td>\n",
       "      <td>41</td>\n",
       "      <td>1.0</td>\n",
       "      <td>83807.86</td>\n",
       "      <td>1</td>\n",
       "      <td>0</td>\n",
       "      <td>1</td>\n",
       "      <td>112542.58</td>\n",
       "      <td>0</td>\n",
       "      <td>0</td>\n",
       "      <td>1</td>\n",
       "      <td>0</td>\n",
       "    </tr>\n",
       "    <tr>\n",
       "      <th>2</th>\n",
       "      <td>502</td>\n",
       "      <td>42</td>\n",
       "      <td>8.0</td>\n",
       "      <td>159660.80</td>\n",
       "      <td>3</td>\n",
       "      <td>1</td>\n",
       "      <td>0</td>\n",
       "      <td>113931.57</td>\n",
       "      <td>1</td>\n",
       "      <td>0</td>\n",
       "      <td>0</td>\n",
       "      <td>0</td>\n",
       "    </tr>\n",
       "    <tr>\n",
       "      <th>3</th>\n",
       "      <td>699</td>\n",
       "      <td>39</td>\n",
       "      <td>1.0</td>\n",
       "      <td>0.00</td>\n",
       "      <td>2</td>\n",
       "      <td>0</td>\n",
       "      <td>0</td>\n",
       "      <td>93826.63</td>\n",
       "      <td>0</td>\n",
       "      <td>0</td>\n",
       "      <td>0</td>\n",
       "      <td>0</td>\n",
       "    </tr>\n",
       "    <tr>\n",
       "      <th>4</th>\n",
       "      <td>850</td>\n",
       "      <td>43</td>\n",
       "      <td>2.0</td>\n",
       "      <td>125510.82</td>\n",
       "      <td>1</td>\n",
       "      <td>1</td>\n",
       "      <td>1</td>\n",
       "      <td>79084.10</td>\n",
       "      <td>0</td>\n",
       "      <td>0</td>\n",
       "      <td>1</td>\n",
       "      <td>0</td>\n",
       "    </tr>\n",
       "  </tbody>\n",
       "</table>\n",
       "</div>"
      ],
      "text/plain": [
       "   CreditScore  Age  Tenure    Balance  NumOfProducts  HasCrCard  \\\n",
       "0          619   42     2.0       0.00              1          1   \n",
       "1          608   41     1.0   83807.86              1          0   \n",
       "2          502   42     8.0  159660.80              3          1   \n",
       "3          699   39     1.0       0.00              2          0   \n",
       "4          850   43     2.0  125510.82              1          1   \n",
       "\n",
       "   IsActiveMember  EstimatedSalary  Exited  Geography_Germany  \\\n",
       "0               1        101348.88       1                  0   \n",
       "1               1        112542.58       0                  0   \n",
       "2               0        113931.57       1                  0   \n",
       "3               0         93826.63       0                  0   \n",
       "4               1         79084.10       0                  0   \n",
       "\n",
       "   Geography_Spain  Gender_Male  \n",
       "0                0            0  \n",
       "1                1            0  \n",
       "2                0            0  \n",
       "3                0            0  \n",
       "4                1            0  "
      ]
     },
     "execution_count": 14,
     "metadata": {},
     "output_type": "execute_result"
    }
   ],
   "source": [
    "data.head(5)"
   ]
  },
  {
   "cell_type": "markdown",
   "metadata": {},
   "source": [
    "разобьем исходные данные на три выборки:обучающую (60%), валидационную(20%) и тестовую(20%)"
   ]
  },
  {
   "cell_type": "code",
   "execution_count": 15,
   "metadata": {},
   "outputs": [],
   "source": [
    "#сначала разбиваем на две 80% и 20%(тестовая)\n",
    "data_train, data_test = train_test_split(data, test_size=0.20, random_state=12345,stratify=data['Exited']) "
   ]
  },
  {
   "cell_type": "code",
   "execution_count": 16,
   "metadata": {},
   "outputs": [],
   "source": [
    "#теперь разобьем 80%  на обучающую (75% текущий и 60% от исходной) и валидационную\n",
    "data_train, data_val = train_test_split(data_train, test_size=0.25, random_state=12345, stratify=data_train['Exited'])"
   ]
  },
  {
   "cell_type": "code",
   "execution_count": 17,
   "metadata": {},
   "outputs": [],
   "source": [
    "#разделим все выборки на обучающие данные и целевые показатели\n",
    "features_train = data_train.drop(['Exited'], axis=1)\n",
    "target_train = data_train['Exited']\n",
    "features_valid = data_val.drop(['Exited'], axis=1)\n",
    "target_valid = data_val['Exited']\n",
    "features_test = data_test.drop(['Exited'], axis=1)\n",
    "target_test = data_test['Exited']"
   ]
  },
  {
   "cell_type": "markdown",
   "metadata": {},
   "source": [
    "<div class=\"alert alert-success\">\n",
    "<h2> Комментарий ревьюера <a class=\"tocSkip\"> </h2>\n",
    "\n",
    "👍 С разбиением на выборки согласен. \n",
    "    \n",
    "Здесь было бы неплохо выводить размерность выборок:\n",
    "    \n",
    "`\n",
    "print(‘Тренировочная:', features_train.shape)\n",
    "print('Валидационная:', features_valid.shape)\n",
    "print('Тестовая:', features_test.shape)\n",
    "`\n",
    "\n",
    "</div>\n"
   ]
  },
  {
   "cell_type": "markdown",
   "metadata": {},
   "source": [
    "<div class=\"alert alert-warning\">\n",
    "<h2> Комментарий ревьюера <a class=\"tocSkip\"> </h2>\n",
    "    \n",
    "<b>Некоторые замечания и рекомендации💡:</b> \n",
    "\n",
    "Здесь важно оставить небольшой промежуточный вывод по предобработке. Также было бы отлично сделать подзаголовок следующего шага: Исследования моделей.\n",
    "\n",
    "       \n",
    "</div>\n",
    "\n"
   ]
  },
  {
   "cell_type": "markdown",
   "metadata": {},
   "source": [
    "Будем обучать модель случайный лес\n",
    "Запустим цикл с обучением модели от 1 до 10 деревьев и выберим с лучшим результатом accuracy"
   ]
  },
  {
   "cell_type": "code",
   "execution_count": 18,
   "metadata": {},
   "outputs": [
    {
     "name": "stdout",
     "output_type": "stream",
     "text": [
      "F1 наилучшей модели на валидационной выборке: 0.5654450261780104\n",
      "RandomForestClassifier(max_depth=10, n_estimators=40, random_state=12345)\n",
      "CPU times: user 5.77 s, sys: 30.7 ms, total: 5.8 s\n",
      "Wall time: 5.8 s\n"
     ]
    }
   ],
   "source": [
    "%%time\n",
    "      \n",
    "best_model = None\n",
    "best_result = 0\n",
    "best_est = 0\n",
    "best_depth = 0\n",
    "for est in range(10, 51, 10):\n",
    "    for depth in range (1, 11):\n",
    "        model = RandomForestClassifier(random_state=12345, n_estimators=est, max_depth=depth)\n",
    "        model.fit(features_train,target_train) # обучите модель на тренировочной выборке\n",
    "        pred=model.predict(features_valid)\n",
    "        result = f1_score(target_valid,pred)              \n",
    "        if result > best_result:\n",
    "            best_model = model\n",
    "            best_result = result\n",
    "            best_est = est\n",
    "            best_depth = depth\n",
    "            \n",
    "print(\"F1 наилучшей модели на валидационной выборке:\", best_result)\n",
    "print(best_model)"
   ]
  },
  {
   "cell_type": "markdown",
   "metadata": {},
   "source": [
    "<div class=\"alert alert-block alert-danger\">\n",
    "<h2><s> Комментарий ревьюера <a class=\"tocSkip\"></h2>\n",
    "  \n",
    "<b>На доработку🤔:</b>\n",
    " \n",
    "Важно сразу подбирать лучшие гиперпараметры по F1-мере. Здесь же подбираем по accuracy. Не факт, что оптимизация одного параметра будет означать оптимизации остальных. А в случае с нашим дисбалансом - тем более.\n",
    "    \n",
    "По ТЗ проекта нам нужно как раз максимизировать F1.\n",
    "\n",
    "</div>\n"
   ]
  },
  {
   "cell_type": "markdown",
   "metadata": {},
   "source": [
    "<br/>\n",
    "<div class=\"alert alert-info\">\n",
    "Поправила\n",
    "</div>"
   ]
  },
  {
   "cell_type": "markdown",
   "metadata": {},
   "source": [
    "Наилучший результат модель дает, когда в ней 40 деревье и глубина каждого дерева 10, при этом F1 достигает 0.56"
   ]
  },
  {
   "cell_type": "markdown",
   "metadata": {},
   "source": [
    "проверим модель случайный лес с 40 деревьями и глубиной 10 на тестовой выборке"
   ]
  },
  {
   "cell_type": "code",
   "execution_count": 19,
   "metadata": {},
   "outputs": [],
   "source": [
    "\n",
    "\n",
    "model = RandomForestClassifier(max_depth=10, n_estimators=40, random_state=12345) \n",
    "model.fit(features_train,target_train)\n",
    "pred=model.predict(features_test)\n"
   ]
  },
  {
   "cell_type": "code",
   "execution_count": 20,
   "metadata": {},
   "outputs": [
    {
     "data": {
      "image/png": "[encoded data removed]",
      "text/plain": [
       "<Figure size 432x288 with 2 Axes>"
      ]
     },
     "metadata": {
      "needs_background": "light"
     },
     "output_type": "display_data"
    }
   ],
   "source": [
    "#посмотрим Матрицу ошибок \n",
    "cm=confusion_matrix(target_test,pred,labels=model.classes_)\n",
    "ConfusionMatrixDisplay(confusion_matrix=cm,display_labels=model.classes_).plot()\n",
    "plt.show()"
   ]
  },
  {
   "cell_type": "markdown",
   "metadata": {},
   "source": [
    "видим, что достаточно много ошибочных негативных предсказаний, больше чем инстиных негативных"
   ]
  },
  {
   "cell_type": "code",
   "execution_count": 21,
   "metadata": {},
   "outputs": [
    {
     "name": "stdout",
     "output_type": "stream",
     "text": [
      "recall 0.496\n",
      "precision 0.7897\n"
     ]
    }
   ],
   "source": [
    "#посмотрим на precision и recall \n",
    "recall=round(recall_score(target_test,pred),4)\n",
    "precision=round(precision_score(target_test,pred),4)\n",
    "\n",
    "print(\"recall\", recall)\n",
    "print(\"precision\", precision)"
   ]
  },
  {
   "cell_type": "code",
   "execution_count": 22,
   "metadata": {},
   "outputs": [
    {
     "data": {
      "text/plain": [
       "0.6093"
      ]
     },
     "execution_count": 22,
     "metadata": {},
     "output_type": "execute_result"
    }
   ],
   "source": [
    "#посмотрим на  F1\n",
    "f1=round(f1_score(target_test,pred),4)\n",
    "f1"
   ]
  },
  {
   "cell_type": "markdown",
   "metadata": {},
   "source": [
    "Показатель precision достаточно высокий, но низникий показатель recall, что в целом нам дает показатель F1 0,609 это выше целевого (0,59). Но если убрать дизбаланс классов, показатели recall и F1 поднимуться."
   ]
  },
  {
   "cell_type": "markdown",
   "metadata": {},
   "source": [
    "<div class=\"alert alert-block alert-danger\">\n",
    "<h2><S> Комментарий ревьюера <a class=\"tocSkip\"></h2>\n",
    "  \n",
    "<b>На доработку🤔:</b>\n",
    " \n",
    "В проекте важно исследовать хотя бы две модели. Если выберем линейную, то нужно будет не забыть выше сделать масштабирование после разделения на выборки (по примеру того, как было в тренажере).\n",
    "\n",
    "</div>\n"
   ]
  },
  {
   "cell_type": "markdown",
   "metadata": {},
   "source": [
    "<br/>\n",
    "<div class=\"alert alert-info\">\n",
    "Поправила\n",
    "</div>"
   ]
  },
  {
   "cell_type": "markdown",
   "metadata": {},
   "source": [
    "Посмотрим какой результат даст модель регрессии"
   ]
  },
  {
   "cell_type": "markdown",
   "metadata": {},
   "source": [
    "Перед обучением модели сделаем масштабирование признаков"
   ]
  },
  {
   "cell_type": "code",
   "execution_count": 23,
   "metadata": {},
   "outputs": [
    {
     "data": {
      "text/html": [
       "<div>\n",
       "<style scoped>\n",
       "    .dataframe tbody tr th:only-of-type {\n",
       "        vertical-align: middle;\n",
       "    }\n",
       "\n",
       "    .dataframe tbody tr th {\n",
       "        vertical-align: top;\n",
       "    }\n",
       "\n",
       "    .dataframe thead th {\n",
       "        text-align: right;\n",
       "    }\n",
       "</style>\n",
       "<table border=\"1\" class=\"dataframe\">\n",
       "  <thead>\n",
       "    <tr style=\"text-align: right;\">\n",
       "      <th></th>\n",
       "      <th>CreditScore</th>\n",
       "      <th>Age</th>\n",
       "      <th>Tenure</th>\n",
       "      <th>Balance</th>\n",
       "      <th>NumOfProducts</th>\n",
       "      <th>HasCrCard</th>\n",
       "      <th>IsActiveMember</th>\n",
       "      <th>EstimatedSalary</th>\n",
       "      <th>Geography_Germany</th>\n",
       "      <th>Geography_Spain</th>\n",
       "      <th>Gender_Male</th>\n",
       "    </tr>\n",
       "  </thead>\n",
       "  <tbody>\n",
       "    <tr>\n",
       "      <th>3105</th>\n",
       "      <td>0.273332</td>\n",
       "      <td>-1.028943</td>\n",
       "      <td>-0.344468</td>\n",
       "      <td>-1.224804</td>\n",
       "      <td>0.790519</td>\n",
       "      <td>0.643184</td>\n",
       "      <td>0.967169</td>\n",
       "      <td>0.776365</td>\n",
       "      <td>0</td>\n",
       "      <td>0</td>\n",
       "      <td>0</td>\n",
       "    </tr>\n",
       "    <tr>\n",
       "      <th>4900</th>\n",
       "      <td>0.867258</td>\n",
       "      <td>0.197898</td>\n",
       "      <td>0.688936</td>\n",
       "      <td>1.669480</td>\n",
       "      <td>-0.916326</td>\n",
       "      <td>0.643184</td>\n",
       "      <td>0.967169</td>\n",
       "      <td>0.650528</td>\n",
       "      <td>0</td>\n",
       "      <td>0</td>\n",
       "      <td>1</td>\n",
       "    </tr>\n",
       "    <tr>\n",
       "      <th>9400</th>\n",
       "      <td>-0.133038</td>\n",
       "      <td>-0.745826</td>\n",
       "      <td>-0.688936</td>\n",
       "      <td>0.357605</td>\n",
       "      <td>-0.916326</td>\n",
       "      <td>-1.554765</td>\n",
       "      <td>-1.033946</td>\n",
       "      <td>-1.368629</td>\n",
       "      <td>0</td>\n",
       "      <td>0</td>\n",
       "      <td>0</td>\n",
       "    </tr>\n",
       "    <tr>\n",
       "      <th>1760</th>\n",
       "      <td>-1.362568</td>\n",
       "      <td>-0.085219</td>\n",
       "      <td>0.000000</td>\n",
       "      <td>0.555184</td>\n",
       "      <td>-0.916326</td>\n",
       "      <td>-1.554765</td>\n",
       "      <td>0.967169</td>\n",
       "      <td>0.638830</td>\n",
       "      <td>0</td>\n",
       "      <td>0</td>\n",
       "      <td>1</td>\n",
       "    </tr>\n",
       "    <tr>\n",
       "      <th>6322</th>\n",
       "      <td>0.867258</td>\n",
       "      <td>1.047250</td>\n",
       "      <td>-1.033403</td>\n",
       "      <td>-1.224804</td>\n",
       "      <td>0.790519</td>\n",
       "      <td>-1.554765</td>\n",
       "      <td>0.967169</td>\n",
       "      <td>0.822454</td>\n",
       "      <td>0</td>\n",
       "      <td>0</td>\n",
       "      <td>1</td>\n",
       "    </tr>\n",
       "  </tbody>\n",
       "</table>\n",
       "</div>"
      ],
      "text/plain": [
       "      CreditScore       Age    Tenure   Balance  NumOfProducts  HasCrCard  \\\n",
       "3105     0.273332 -1.028943 -0.344468 -1.224804       0.790519   0.643184   \n",
       "4900     0.867258  0.197898  0.688936  1.669480      -0.916326   0.643184   \n",
       "9400    -0.133038 -0.745826 -0.688936  0.357605      -0.916326  -1.554765   \n",
       "1760    -1.362568 -0.085219  0.000000  0.555184      -0.916326  -1.554765   \n",
       "6322     0.867258  1.047250 -1.033403 -1.224804       0.790519  -1.554765   \n",
       "\n",
       "      IsActiveMember  EstimatedSalary  Geography_Germany  Geography_Spain  \\\n",
       "3105        0.967169         0.776365                  0                0   \n",
       "4900        0.967169         0.650528                  0                0   \n",
       "9400       -1.033946        -1.368629                  0                0   \n",
       "1760        0.967169         0.638830                  0                0   \n",
       "6322        0.967169         0.822454                  0                0   \n",
       "\n",
       "      Gender_Male  \n",
       "3105            0  \n",
       "4900            1  \n",
       "9400            0  \n",
       "1760            1  \n",
       "6322            1  "
      ]
     },
     "execution_count": 23,
     "metadata": {},
     "output_type": "execute_result"
    }
   ],
   "source": [
    "\n",
    "numeric = ['CreditScore', 'Age', 'Tenure', 'Balance','NumOfProducts', 'HasCrCard', 'IsActiveMember', 'EstimatedSalary']\n",
    "scaler = StandardScaler()\n",
    "scaler.fit(features_train[numeric]) \n",
    "features_train[numeric] = scaler.transform(features_train[numeric])\n",
    "\n",
    "features_valid[numeric] = scaler.transform(features_valid[numeric])\n",
    "\n",
    "features_test[numeric] = scaler.transform(features_test[numeric])\n",
    "features_train.head()"
   ]
  },
  {
   "cell_type": "markdown",
   "metadata": {},
   "source": [
    "<div class=\"alert alert-success\">\n",
    "<h2> Комментарий ревьюера #2 <a class=\"tocSkip\"> </h2>\n",
    "\n",
    "👍 Согласен.\n",
    "</div>"
   ]
  },
  {
   "cell_type": "markdown",
   "metadata": {},
   "source": [
    "теперь обучим модель и посмотрим на показатель f1"
   ]
  },
  {
   "cell_type": "code",
   "execution_count": 24,
   "metadata": {},
   "outputs": [
    {
     "data": {
      "text/plain": [
       "0.2828"
      ]
     },
     "execution_count": 24,
     "metadata": {},
     "output_type": "execute_result"
    }
   ],
   "source": [
    "model = LogisticRegression(random_state=12345, solver='liblinear')\n",
    "model.fit(features_train, target_train)\n",
    "pred = model.predict(features_valid)\n",
    "\n",
    "f1=round(f1_score(target_valid,pred),4)\n",
    "f1"
   ]
  },
  {
   "cell_type": "markdown",
   "metadata": {},
   "source": [
    "<div class=\"alert alert-success\">\n",
    "<h2> Комментарий ревьюера #2 <a class=\"tocSkip\"> </h2>\n",
    "\n",
    "👍 Здесь все отлично. Единственное, масштабирование нужно было сделать до начала обучения моделей, а логистическую регрессию попробовать и без учета дисбаланса классов. \n",
    "    \n",
    "class_weight='balanced' нужно убрать. Его мы используем ниже.\n",
    "</div>\n"
   ]
  },
  {
   "cell_type": "markdown",
   "metadata": {},
   "source": [
    "Показатель  f1= 0,49, что ниже чем у модели случайный лес."
   ]
  },
  {
   "cell_type": "markdown",
   "metadata": {},
   "source": [
    "## Борьба с дисбалансом"
   ]
  },
  {
   "cell_type": "markdown",
   "metadata": {},
   "source": [
    "Взвешивание классов.\n",
    "\n",
    "Обучим две модели Случайный лес  и регрессии, использую взвешивания классов"
   ]
  },
  {
   "cell_type": "code",
   "execution_count": 25,
   "metadata": {},
   "outputs": [
    {
     "name": "stdout",
     "output_type": "stream",
     "text": [
      "F1 наилучшей модели на валидационной выборке: 0.6108247422680413\n",
      "RandomForestClassifier(class_weight='balanced', max_depth=9, n_estimators=40,\n",
      "                       random_state=12345)\n",
      "CPU times: user 5.93 s, sys: 34.5 ms, total: 5.96 s\n",
      "Wall time: 5.97 s\n"
     ]
    }
   ],
   "source": [
    "\n",
    "%%time\n",
    "      \n",
    "best_model = None\n",
    "best_result = 0\n",
    "best_est = 0\n",
    "best_depth = 0\n",
    "for est in range(10, 51, 10):\n",
    "    for depth in range (1, 11):\n",
    "        model = RandomForestClassifier(random_state=12345, n_estimators=est, max_depth=depth, class_weight='balanced')\n",
    "        model.fit(features_train,target_train) # обучите модель на тренировочной выборке\n",
    "        pred=model.predict(features_valid)\n",
    "        result = f1_score(target_valid,pred)              \n",
    "        if result > best_result:\n",
    "            best_model = model\n",
    "            best_result = result\n",
    "            best_est = est\n",
    "            best_depth = depth\n",
    "            \n",
    "print(\"F1 наилучшей модели на валидационной выборке:\", best_result)\n",
    "print(best_model)"
   ]
  },
  {
   "cell_type": "markdown",
   "metadata": {},
   "source": [
    "<div class=\"alert alert-block alert-danger\">\n",
    "<h2><s> Комментарий ревьюера <a class=\"tocSkip\"></h2>\n",
    "  \n",
    "<b>На доработку🤔:</b>\n",
    " \n",
    "Здесь изменились вводные  - теперь используем class_weight='balanced'. Необходимо заново обучать модели и заново находить лучшие гиперпараметры.\n",
    "\n",
    "</div>\n"
   ]
  },
  {
   "cell_type": "markdown",
   "metadata": {},
   "source": [
    "<br/>\n",
    "<div class=\"alert alert-info\">\n",
    "Поправила\n",
    "</div>"
   ]
  },
  {
   "cell_type": "code",
   "execution_count": 26,
   "metadata": {},
   "outputs": [
    {
     "data": {
      "text/plain": [
       "0.4971"
      ]
     },
     "execution_count": 26,
     "metadata": {},
     "output_type": "execute_result"
    }
   ],
   "source": [
    "model = LogisticRegression(random_state=12345, solver='liblinear',class_weight='balanced')\n",
    "model.fit(features_train, target_train)\n",
    "pred = model.predict(features_valid)\n",
    "\n",
    "f1=round(f1_score(target_valid,pred),4)\n",
    "f1"
   ]
  },
  {
   "cell_type": "markdown",
   "metadata": {},
   "source": [
    "<div class=\"alert alert-block alert-danger\">\n",
    "<h2><s> Комментарий ревьюера <a class=\"tocSkip\"></h2>\n",
    "  \n",
    "<b>На доработку🤔:</b>\n",
    " \n",
    "О, если используем линейную модель, то выше обязательно нужно сделать масштабирование. И все модели нужно исследовать со всеми методами, а также без учета дисбаланса классов.\n",
    "</div>\n"
   ]
  },
  {
   "cell_type": "markdown",
   "metadata": {},
   "source": [
    "У модели Случайный лес (при 40 деревьев с глубиной 9) показатель F1 на валидационной выборке достаточно высокий 0,61, модель регресси дала более низкий результат 0,49"
   ]
  },
  {
   "cell_type": "markdown",
   "metadata": {},
   "source": [
    "Увеличение выборки.\n",
    "\n",
    "Применем другой метод борьбы с дисбалансом - увеличение выборки. Так же применем его к двум моделям"
   ]
  },
  {
   "cell_type": "code",
   "execution_count": 27,
   "metadata": {},
   "outputs": [],
   "source": [
    "def upsample(features, target, repeat):\n",
    "    features_zeros = features[target == 0]\n",
    "    features_ones = features[target == 1]\n",
    "    target_zeros = target[target == 0]\n",
    "    target_ones = target[target == 1]\n",
    "\n",
    "    features_upsampled = pd.concat([features_zeros] + [features_ones] * repeat)\n",
    "    target_upsampled = pd.concat([target_zeros] + [target_ones] * repeat)\n",
    "    \n",
    "    features_upsampled, target_upsampled = shuffle(\n",
    "        features_upsampled, target_upsampled, random_state=12345)\n",
    "    \n",
    "    return features_upsampled, target_upsampled\n",
    "\n"
   ]
  },
  {
   "cell_type": "code",
   "execution_count": 28,
   "metadata": {},
   "outputs": [],
   "source": [
    "features_upsampled, target_upsampled = upsample(features_train, target_train, 4)"
   ]
  },
  {
   "cell_type": "markdown",
   "metadata": {},
   "source": [
    "<div class=\"alert alert-success\">\n",
    "<h2> Комментарий ревьюера <a class=\"tocSkip\"> </h2>\n",
    "\n",
    "👍 Отлично, что используешь рукописную функцию, но здесь можно все оптимизировать, используя <a href=\"https://imbalanced-learn.org/stable/references/generated/imblearn.over_sampling.SMOTE.html\">SMOTE</a> для увеличения выборки и <a href=\"https://imbalanced-learn.org/stable/references/generated/imblearn.under_sampling.RandomUnderSampler.html\">RandomUnderSampler</a>  для уменьшения. \n",
    "    \n",
    "Апсемплинг делается очень просто:\n",
    "    \n",
    "`oversample = SMOTE(random_state=RANDOM_STATE)`\n",
    "\n",
    "`features_train_up, target_train_up = oversample.fit_resample(features_train_enc, target_train)`\n",
    "    \n",
    "*предварительно импотрировав `from imblearn.over_sampling import SMOTE`\n",
    "\n",
    "**Чтобы импортировать imblearn его сначала требуется проинсталлировать. через `!pip install imblearn`\n",
    "\n",
    "В некоторых случаях качество может при применении SMOTE как улучшаться, так и ухудшаться в пределах статистической погрешности. Алгоритм не дублирует строки, а создает новые с помощью метода ближайших соседей. Можно попробовать посмотреть варианты с гиперпараметром `k_neighbors`. \n",
    "\n",
    "`oversample = SMOTE(random_state=RANDOM_STATE, k_neighbors=4)`\n",
    "\n",
    "***\n",
    "    \n",
    "Если код выдаст ошибку, нужно перезагрузить ядро юпитера: Kernel - Restart на панели задач.\n",
    " \n",
    "    \n",
    "</div>\n"
   ]
  },
  {
   "cell_type": "code",
   "execution_count": 29,
   "metadata": {},
   "outputs": [
    {
     "name": "stdout",
     "output_type": "stream",
     "text": [
      "F1 наилучшей модели на валидационной выборке: 0.606060606060606\n",
      "RandomForestClassifier(max_depth=10, n_estimators=50, random_state=12345)\n",
      "CPU times: user 7.65 s, sys: 31.3 ms, total: 7.68 s\n",
      "Wall time: 7.68 s\n"
     ]
    }
   ],
   "source": [
    "\n",
    "%%time\n",
    "      \n",
    "best_model = None\n",
    "best_result = 0\n",
    "best_est = 0\n",
    "best_depth = 0\n",
    "for est in range(10, 51, 10):\n",
    "    for depth in range (1, 11):\n",
    "        model = RandomForestClassifier(random_state=12345, n_estimators=est, max_depth=depth)\n",
    "        model.fit(features_upsampled,target_upsampled) # обучите модель на тренировочной выборке\n",
    "        pred=model.predict(features_valid)\n",
    "        result = f1_score(target_valid,pred)              \n",
    "        if result > best_result:\n",
    "            best_model = model\n",
    "            best_result = result\n",
    "            best_est = est\n",
    "            best_depth = depth\n",
    "            \n",
    "print(\"F1 наилучшей модели на валидационной выборке:\", best_result)\n",
    "print(best_model)"
   ]
  },
  {
   "cell_type": "markdown",
   "metadata": {},
   "source": [
    "<div class=\"alert alert-warning\">\n",
    "<h2> Комментарий ревьюера <a class=\"tocSkip\"> </h2>\n",
    "    \n",
    "<b>Некоторые замечания и рекомендации💡:</b> \n",
    "\n",
    "Важно заново подобрать гиперпараметры.\n",
    "       \n",
    "</div> \n",
    "  "
   ]
  },
  {
   "cell_type": "markdown",
   "metadata": {},
   "source": [
    "<br/>\n",
    "<div class=\"alert alert-info\">\n",
    "Поправила\n",
    "</div>"
   ]
  },
  {
   "cell_type": "code",
   "execution_count": 30,
   "metadata": {},
   "outputs": [
    {
     "data": {
      "text/plain": [
       "0.4934"
      ]
     },
     "execution_count": 30,
     "metadata": {},
     "output_type": "execute_result"
    }
   ],
   "source": [
    "model = LogisticRegression(random_state=12345, solver='liblinear')\n",
    "model.fit(features_upsampled,target_upsampled)\n",
    "pred = model.predict(features_valid)\n",
    "\n",
    "f1=round(f1_score(target_valid,pred),4)\n",
    "f1"
   ]
  },
  {
   "cell_type": "markdown",
   "metadata": {},
   "source": [
    "У модели Случайный лес показатель F1 на валидационной выборке выше, чем у модель регрессии "
   ]
  },
  {
   "cell_type": "markdown",
   "metadata": {},
   "source": [
    "Уменьшение выборки"
   ]
  },
  {
   "cell_type": "code",
   "execution_count": 31,
   "metadata": {},
   "outputs": [],
   "source": [
    "def downsample(features, target, fraction):\n",
    "    features_zeros = features[target == 0]\n",
    "    features_ones = features[target == 1]\n",
    "    target_zeros = target[target == 0]\n",
    "    target_ones = target[target == 1]\n",
    "\n",
    "    features_downsampled = pd.concat(\n",
    "        [features_zeros.sample(frac=fraction, random_state=12345)] + [features_ones])\n",
    "    target_downsampled = pd.concat(\n",
    "        [target_zeros.sample(frac=fraction, random_state=12345)] + [target_ones])\n",
    "    \n",
    "    features_downsampled, target_downsampled = shuffle(\n",
    "        features_downsampled, target_downsampled, random_state=12345)\n",
    "    \n",
    "    return features_downsampled, target_downsampled\n",
    "\n",
    "features_downsampled, target_downsampled = downsample(features_train, target_train, 0.25)"
   ]
  },
  {
   "cell_type": "markdown",
   "metadata": {},
   "source": [
    "<div class=\"alert alert-success\"> \n",
    "<h2> Комментарий ревьюера <a class=\"tocSkip\"> </h2>\n",
    "\n",
    "👍 Согласен по коэффициентам и для апсемплинга, и для даунсемплинга.\n",
    "</div>  \n"
   ]
  },
  {
   "cell_type": "code",
   "execution_count": 32,
   "metadata": {},
   "outputs": [
    {
     "name": "stdout",
     "output_type": "stream",
     "text": [
      "F1 наилучшей модели на валидационной выборке: 0.5841476655808903\n",
      "RandomForestClassifier(max_depth=8, n_estimators=20, random_state=12345)\n"
     ]
    }
   ],
   "source": [
    "best_model = None\n",
    "best_result = 0\n",
    "best_est = 0\n",
    "best_depth = 0\n",
    "for est in range(10, 51, 10):\n",
    "    for depth in range (1, 11):\n",
    "        model = RandomForestClassifier(random_state=12345, n_estimators=est, max_depth=depth)\n",
    "        model.fit(features_downsampled,target_downsampled) # обучите модель на тренировочной выборке\n",
    "        pred=model.predict(features_valid)\n",
    "        result = f1_score(target_valid,pred)              \n",
    "        if result > best_result:\n",
    "            best_model = model\n",
    "            best_result = result\n",
    "            best_est = est\n",
    "            best_depth = depth\n",
    "            \n",
    "print(\"F1 наилучшей модели на валидационной выборке:\", best_result)\n",
    "print(best_model)"
   ]
  },
  {
   "cell_type": "markdown",
   "metadata": {},
   "source": [
    "<div class=\"alert alert-warning\">\n",
    "<h2> Комментарий ревьюера <a class=\"tocSkip\"> </h2>\n",
    "    \n",
    "<b>Некоторые замечания и рекомендации💡:</b> \n",
    "\n",
    "Здесь подберем глубину и количество деревьев.\n",
    "       \n",
    "</div> "
   ]
  },
  {
   "cell_type": "code",
   "execution_count": 33,
   "metadata": {},
   "outputs": [
    {
     "data": {
      "text/plain": [
       "0.4878"
      ]
     },
     "execution_count": 33,
     "metadata": {},
     "output_type": "execute_result"
    }
   ],
   "source": [
    "model = LogisticRegression(random_state=12345, solver='liblinear')\n",
    "model.fit(features_downsampled,target_downsampled)\n",
    "pred = model.predict(features_valid)\n",
    "\n",
    "f1=round(f1_score(target_valid,pred),4)\n",
    "f1"
   ]
  },
  {
   "cell_type": "markdown",
   "metadata": {},
   "source": [
    "Изменение порога\n",
    "\n",
    "Расчитаем F1 для разных порогов в моделях"
   ]
  },
  {
   "cell_type": "code",
   "execution_count": 34,
   "metadata": {},
   "outputs": [
    {
     "name": "stdout",
     "output_type": "stream",
     "text": [
      "Порог = 0.00 | F1 = 0.339\n",
      "Порог = 0.02 | F1 = 0.340\n",
      "Порог = 0.04 | F1 = 0.356\n",
      "Порог = 0.06 | F1 = 0.377\n",
      "Порог = 0.08 | F1 = 0.399\n",
      "Порог = 0.10 | F1 = 0.425\n",
      "Порог = 0.12 | F1 = 0.438\n",
      "Порог = 0.14 | F1 = 0.440\n",
      "Порог = 0.16 | F1 = 0.458\n",
      "Порог = 0.18 | F1 = 0.471\n",
      "Порог = 0.20 | F1 = 0.478\n",
      "Порог = 0.22 | F1 = 0.496\n",
      "Порог = 0.24 | F1 = 0.490\n",
      "Порог = 0.26 | F1 = 0.486\n",
      "Порог = 0.28 | F1 = 0.463\n"
     ]
    }
   ],
   "source": [
    "model = LogisticRegression(random_state=12345, solver='liblinear')\n",
    "model.fit(features_train, target_train)\n",
    "probabilities_valid = model.predict_proba(features_valid)\n",
    "probabilities_one_valid = probabilities_valid[:, 1]\n",
    "\n",
    "for threshold in np.arange(0, 0.3, 0.02):\n",
    "    predicted_valid = probabilities_one_valid > threshold \n",
    "    f1=round(f1_score(target_valid,predicted_valid),4)\n",
    "\n",
    "    print(\"Порог = {:.2f} | F1 = {:.3f}\".format(\n",
    "        threshold, f1))"
   ]
  },
  {
   "cell_type": "markdown",
   "metadata": {},
   "source": [
    "Самый высокое значение F1 (F1 = 0.496) достигается при пороге 0,22"
   ]
  },
  {
   "cell_type": "code",
   "execution_count": 35,
   "metadata": {},
   "outputs": [
    {
     "name": "stdout",
     "output_type": "stream",
     "text": [
      "CPU times: user 7.35 s, sys: 35.7 ms, total: 7.39 s\n",
      "Wall time: 7.41 s\n"
     ]
    }
   ],
   "source": [
    "%%time\n",
    "      \n",
    "best_model = None\n",
    "best_result = 0\n",
    "best_est = 0\n",
    "best_depth = 0\n",
    "best_threshold=0\n",
    "for est in range(10, 51, 10):\n",
    "    for depth in range (1, 11):\n",
    "        model = RandomForestClassifier(random_state=12345, n_estimators=est, max_depth=depth)\n",
    "        model.fit(features_train, target_train) \n",
    "        probabilities_valid = model.predict_proba(features_valid)\n",
    "        probabilities_one_valid = probabilities_valid[:, 1]\n",
    "        for threshold in np.arange(0, 0.5, 0.02):\n",
    "            predicted_valid = probabilities_one_valid > threshold  \n",
    "            result=f1_score(target_valid,predicted_valid)\n",
    "            if result > best_result:\n",
    "                best_model = model\n",
    "                best_result = result\n",
    "                best_est = est\n",
    "                best_depth = depth\n",
    "                best_threshold=threshold            "
   ]
  },
  {
   "cell_type": "code",
   "execution_count": 36,
   "metadata": {},
   "outputs": [
    {
     "data": {
      "text/plain": [
       "0.32"
      ]
     },
     "execution_count": 36,
     "metadata": {},
     "output_type": "execute_result"
    }
   ],
   "source": [
    "best_threshold"
   ]
  },
  {
   "cell_type": "code",
   "execution_count": 37,
   "metadata": {},
   "outputs": [
    {
     "data": {
      "text/plain": [
       "0.6244725738396625"
      ]
     },
     "execution_count": 37,
     "metadata": {},
     "output_type": "execute_result"
    }
   ],
   "source": [
    "best_result"
   ]
  },
  {
   "cell_type": "code",
   "execution_count": 38,
   "metadata": {},
   "outputs": [
    {
     "data": {
      "text/plain": [
       "RandomForestClassifier(max_depth=8, n_estimators=50, random_state=12345)"
      ]
     },
     "execution_count": 38,
     "metadata": {},
     "output_type": "execute_result"
    }
   ],
   "source": [
    "best_model"
   ]
  },
  {
   "cell_type": "markdown",
   "metadata": {},
   "source": [
    "Самый высокое значение F1 (F1 = 0.62) достигается при пороге 0.32 с лесом на 50 деревьев с глубиной 8."
   ]
  },
  {
   "cell_type": "markdown",
   "metadata": {},
   "source": [
    "<div class=\"alert alert-warning\">\n",
    "<h2> Комментарий ревьюера  #2 <a class=\"tocSkip\"> </h2>\n",
    "    \n",
    "<b>Некоторые замечания и рекомендации💡:</b> \n",
    "\n",
    "Две мысли по этому поводу:\n",
    "    \n",
    "1) В идеальном мире у нас будут идеальные модели с идеальными гиперпараметрами. Если такие получим, то баланс классов будет стремиться к 0.5 при максимизации метрики (пока метрики внутри f1 не станут единицами и подбор порога станет неактуальным).\n",
    "    \n",
    "2) Собственно, так будет происходить из-за того, что f1- гармоническое среднее precision и recall. И тут уже практический вопрос - а зачем нам в этом проекте подбирать порог классов? Формально, это неплохой способ немного повысить качество целевой метрики, но по сути это компромисс между полнотой и точностью. \n",
    "    \n",
    "Мы тогда должны спросить заказчика, что важнее, найти максимальное количество оттока пользователей, но тогда мы будем чаще совершать ложноположительные ошибки (помечать лояльных клиентов как спорных). Допустим, удерживать клиентов мы решили с помощью бонусов, а эти бонусы ну очень дешевые. Тогда порог классов можно понизить до 0.4.\n",
    "    \n",
    "И напротив, если бонусы дорогие, а в модель мы добавим какие-то динамические фичи (изменения в поведении клиентов), то сможем некоторое время не обащать внимание на клиентов, риск ухода которых оценивается моделью в 50%, но когда он дорастет до 70%, принимать меры. В этом случае мы рискуем пропустить некоторое количество оттока, зато точность будет на высоте.\n",
    "    \n",
    "***\n",
    "    \n",
    "Если держать в голове эту логику, то, как мне кажется, порог классов подбирать пока не нужно. Делаем лучшую модель с порогом в 0.5, а дальше уточняем, что интереснее заказчику и меняем порог в зависимости от желаемого recall и precision.\n",
    "    \n",
    "***\n",
    "    \n",
    "Подробнее про дисбаланс классов и порог можно почитать здесь:  https://alexanderdyakonov.wordpress.com/2021/05/27/imbalance/  \n",
    "\n",
    "       \n",
    "</div>\n"
   ]
  },
  {
   "cell_type": "markdown",
   "metadata": {},
   "source": [
    "<b>Выводы</b></font>"
   ]
  },
  {
   "cell_type": "markdown",
   "metadata": {},
   "source": [
    "Мы рассмотрели 4 способа борьбы с дисбалансов на двух моделях. Во всех случаях показатель F1 у модели случайный лес выше, чем у модели регресси. Самый высокий показателья F1 (F1 = 0.62) досигается при применение метода изменение порога классификации с порогом 0,32 с лесом на 50 деревьев с глубиной 8."
   ]
  },
  {
   "cell_type": "markdown",
   "metadata": {},
   "source": [
    "<div class=\"alert alert-success\"> \n",
    "<h2> Комментарий ревьюера <a class=\"tocSkip\"> </h2>\n",
    "\n",
    "👍 Согласен. Лучшая модель описана. Перейдем к тестированию!\n",
    "</div>  "
   ]
  },
  {
   "cell_type": "markdown",
   "metadata": {},
   "source": [
    "## Тестирование модели"
   ]
  },
  {
   "cell_type": "markdown",
   "metadata": {},
   "source": [
    "Модель для теста - модель случайный лес с 50 деревьями и глубиной 8, с порогом классификации 0,32."
   ]
  },
  {
   "cell_type": "code",
   "execution_count": 39,
   "metadata": {},
   "outputs": [],
   "source": [
    "#Сначала соединим обучающую и валидационную выборку в одну, для более полного обучения \n",
    "\n",
    "\n",
    "features_train=pd.concat([features_train, features_valid])\n",
    "\n",
    "target_train=pd.concat([target_train, target_valid])"
   ]
  },
  {
   "cell_type": "markdown",
   "metadata": {},
   "source": [
    "<div class=\"alert alert-success\"> \n",
    "<h2> Комментарий ревьюера <a class=\"tocSkip\"> </h2>\n",
    "\n",
    "👍 Логично и полезно.\n",
    "</div>  "
   ]
  },
  {
   "cell_type": "code",
   "execution_count": 40,
   "metadata": {},
   "outputs": [
    {
     "data": {
      "text/plain": [
       "0.6301"
      ]
     },
     "execution_count": 40,
     "metadata": {},
     "output_type": "execute_result"
    }
   ],
   "source": [
    "model = RandomForestClassifier(max_depth=8, n_estimators=50, random_state=12345) \n",
    "threshold = 0.32\n",
    "model.fit(features_train, target_train)\n",
    "probabilities_test  = model.predict_proba(features_test)\n",
    "probabilities_one_test = probabilities_test[:, 1]\n",
    "\n",
    "predicted_test = probabilities_one_test > threshold  # < напишите код здесь >\n",
    "f1=round(f1_score(target_test,predicted_test),4)# < напишите код здесь >\n",
    "f1"
   ]
  },
  {
   "cell_type": "markdown",
   "metadata": {},
   "source": [
    "<div class=\"alert alert-success\"> \n",
    "<h2> Комментарий ревьюера <a class=\"tocSkip\"> </h2>\n",
    "\n",
    "👍 Отлично. \n",
    "</div>  "
   ]
  },
  {
   "cell_type": "markdown",
   "metadata": {},
   "source": [
    "Показатель F1 равен 0,63, это выше целевого 0,59, цель достигнута"
   ]
  },
  {
   "cell_type": "markdown",
   "metadata": {},
   "source": [
    "Дополнительно расчитаем показатель AUC-ROC"
   ]
  },
  {
   "cell_type": "code",
   "execution_count": 41,
   "metadata": {},
   "outputs": [
    {
     "data": {
      "text/plain": [
       "0.8601435570579739"
      ]
     },
     "execution_count": 41,
     "metadata": {},
     "output_type": "execute_result"
    }
   ],
   "source": [
    "auc_roc = roc_auc_score(target_test, probabilities_one_test)\n",
    "auc_roc"
   ]
  },
  {
   "cell_type": "markdown",
   "metadata": {},
   "source": [
    "<div class=\"alert alert-success\"> \n",
    "<h2> Комментарий ревьюера <a class=\"tocSkip\"> </h2>\n",
    "\n",
    "👍 И здесь все верно.\n",
    "</div>  "
   ]
  },
  {
   "cell_type": "markdown",
   "metadata": {},
   "source": [
    "<b>Выводы</b></font>\n",
    "\n",
    "В ходе проекта мы проанализировали данные о клиентах банка. Нам было необходимо создать модель, для прогноза ухода клиентов из банка.\n",
    "\n",
    "В данных присутсвовал дизбаланс (80% против 20%). Если с ним ничего не делать, мы получали показатель F1 = 0,609 это выше целевого (0,59). Но если убрать дизбаланс классов, показатели recall и F1 поднимуться\n",
    "\n",
    "\n",
    "Мы рассмотрели 4 способа борьбы с дисбалансов на двух моделях. Во всех случаях показатель F1 на валидационной выборке у модели случайный лес выше, чем у модели регресси. Самый высокий показателья F1 (F1 = 0.624) досигается при применение метода изменение порога классификации с порогом 0,32.\n",
    "\n",
    "При применение модели случайный лес с порогом классификации 0,32, мы достигли показателя F1 = 0,63 и AUC-ROC=0.86"
   ]
  },
  {
   "cell_type": "markdown",
   "metadata": {},
   "source": [
    "<div class=\"alert alert-warning\">\n",
    "<h2> Комментарий ревьюера <a class=\"tocSkip\"> </h2>\n",
    "    \n",
    "<b>Некоторые замечания и рекомендации💡:</b> \n",
    "\n",
    "\n",
    "Я бы добавил сравнение по f1-мере с константной моделью, также можно посмотреть recall и прокомментировать, какую долю клиентов на отток модель верно детектирует.\n",
    "***\n",
    "\n",
    "Здесь в дамми-модели я бы предсказал везде «1». Условно говоря, если предсказываем ноль, моделируем ситуацию, когда акцию с бонусами для удержания клиентов решили не проводить. Если предсказываем единицу − решили раздать бонусы вообще всем клиентам. Если в дамми-модели предсказываем по единице, можно подсчитать F1, она не будет зануляться.\n",
    "    \n",
    "`dummy_model = DummyClassifier(strategy='constant', constant=1)\n",
    "dummy_model.fit(features_train, target_train)\n",
    "f1_score(dummy_model.predict(features_test), target_test)`\n",
    "    \n",
    "Импорт: from sklearn.dummy import DummyClassifier\n",
    "\n",
    "       \n",
    "</div>\n"
   ]
  },
  {
   "cell_type": "markdown",
   "metadata": {},
   "source": [
    "<div style=\"border:solid Chocolate 2px; padding: 40px\">\n",
    "\n",
    "**Общий вывод по проекту**\n",
    "    \n",
    "Спасибо за твой проект! Есть несколько важных моментов, которые необходимо поправить. Их ты найдешь в разноцветных комментариях.\n",
    "    \n",
    "**Отмечу положительные моменты проекта🚀**\n",
    "    \n",
    "* Хорошая структура проекта. Выбор моделей, порядок исследования.\n",
    "* Есть пояснения к шагам, код с высокой читаемостью. \n",
    "* Логичность решений.\n",
    "* Хороший результат на тестовой выборке.\n",
    "    \n",
    "**На что стоит обратить внимание🤔**\n",
    "    \n",
    "* Необходимо избегать дамми-ловушки при кодировании* (* опечатался, не «тестировании», а «кодировании»)\n",
    "* Нужно масштабировать данные после разбиения на выборки, если дальше используем линейные модели.\n",
    "* Гиперпараметры моделям подбираем по f1-мере и в каждом случае применения методики борьбы с дисбалансом и в исследовании моделей без учета дисбаланса.\n",
    "* Все модели исследуем со всеми методами.\n",
    "* Необходимо достичь качества модели F1>0.59\n",
    "* Эти и остальные замечания я также написал по ходу проекта.\n",
    "    \n",
    "**Желаю удачи и жду твой проект на повторное ревью!**😉\n",
    "    \n",
    "    \n",
    "</div>\n"
   ]
  },
  {
   "cell_type": "markdown",
   "metadata": {},
   "source": [
    "<div style=\"border:solid Chocolate 2px; padding: 40px\">\n",
    "\n",
    "**Комментарий ко второй проверке**\n",
    "\n",
    "Спасибо за доработку. Критичных комментариев нет. \n",
    "    \n",
    "Если что-то пропустил или остались вопросы, напиши на телеграм @kriill\n",
    "\n",
    "Желаю удачи в дальнейшей учебе!\n",
    "\n",
    "</div>\n"
   ]
  },
  {
   "cell_type": "markdown",
   "metadata": {},
   "source": [
    "## Чек-лист готовности проекта"
   ]
  },
  {
   "cell_type": "markdown",
   "metadata": {},
   "source": [
    "Поставьте 'x' в выполненных пунктах. Далее нажмите Shift+Enter."
   ]
  },
  {
   "cell_type": "markdown",
   "metadata": {},
   "source": [
    "- [x]  Jupyter Notebook открыт\n",
    "- [ ]  Весь код выполняется без ошибок\n",
    "- [ ]  Ячейки с кодом расположены в порядке исполнения\n",
    "- [ ]  Выполнен шаг 1: данные подготовлены\n",
    "- [ ]  Выполнен шаг 2: задача исследована\n",
    "    - [ ]  Исследован баланс классов\n",
    "    - [ ]  Изучены модели без учёта дисбаланса\n",
    "    - [ ]  Написаны выводы по результатам исследования\n",
    "- [ ]  Выполнен шаг 3: учтён дисбаланс\n",
    "    - [ ]  Применено несколько способов борьбы с дисбалансом\n",
    "    - [ ]  Написаны выводы по результатам исследования\n",
    "- [ ]  Выполнен шаг 4: проведено тестирование\n",
    "- [ ]  Удалось достичь *F1*-меры не менее 0.59\n",
    "- [ ]  Исследована метрика *AUC-ROC*"
   ]
  },
  {
   "cell_type": "code",
   "execution_count": null,
   "metadata": {},
   "outputs": [],
   "source": []
  }
 ],
 "metadata": {
  "ExecuteTimeLog": [
   {
    "duration": 1588,
    "start_time": "2023-08-16T06:27:07.999Z"
   },
   {
    "duration": 167,
    "start_time": "2023-08-16T06:27:09.589Z"
   },
   {
    "duration": 41,
    "start_time": "2023-08-16T06:27:30.210Z"
   },
   {
    "duration": 20,
    "start_time": "2023-08-16T06:27:30.621Z"
   },
   {
    "duration": 15,
    "start_time": "2023-08-16T06:27:31.764Z"
   },
   {
    "duration": 42,
    "start_time": "2023-08-16T06:27:32.736Z"
   },
   {
    "duration": 18,
    "start_time": "2023-08-16T06:31:17.737Z"
   },
   {
    "duration": 13,
    "start_time": "2023-08-16T06:32:00.588Z"
   },
   {
    "duration": 11,
    "start_time": "2023-08-16T06:32:11.184Z"
   },
   {
    "duration": 22,
    "start_time": "2023-08-16T06:35:13.462Z"
   },
   {
    "duration": 21,
    "start_time": "2023-08-16T06:37:24.236Z"
   },
   {
    "duration": 8,
    "start_time": "2023-08-16T06:38:05.012Z"
   },
   {
    "duration": 8,
    "start_time": "2023-08-16T06:38:27.930Z"
   },
   {
    "duration": 15,
    "start_time": "2023-08-16T06:38:28.548Z"
   },
   {
    "duration": 10,
    "start_time": "2023-08-16T06:38:34.356Z"
   },
   {
    "duration": 37,
    "start_time": "2023-08-16T06:38:34.944Z"
   },
   {
    "duration": 7,
    "start_time": "2023-08-16T06:40:57.488Z"
   },
   {
    "duration": 23,
    "start_time": "2023-08-16T06:42:47.734Z"
   },
   {
    "duration": 8,
    "start_time": "2023-08-16T06:46:33.802Z"
   },
   {
    "duration": 7,
    "start_time": "2023-08-16T06:48:16.727Z"
   },
   {
    "duration": 8,
    "start_time": "2023-08-16T08:29:06.265Z"
   },
   {
    "duration": 209,
    "start_time": "2023-08-16T08:30:24.018Z"
   },
   {
    "duration": 119,
    "start_time": "2023-08-16T08:31:23.843Z"
   },
   {
    "duration": 8,
    "start_time": "2023-08-16T08:31:41.156Z"
   },
   {
    "duration": 10,
    "start_time": "2023-08-16T08:32:19.927Z"
   },
   {
    "duration": 94,
    "start_time": "2023-08-16T08:32:21.657Z"
   },
   {
    "duration": 12,
    "start_time": "2023-08-16T08:33:21.489Z"
   },
   {
    "duration": 14,
    "start_time": "2023-08-16T08:33:34.192Z"
   },
   {
    "duration": 6,
    "start_time": "2023-08-16T08:33:56.105Z"
   },
   {
    "duration": 12,
    "start_time": "2023-08-16T08:33:56.588Z"
   },
   {
    "duration": 4,
    "start_time": "2023-08-16T08:35:54.353Z"
   },
   {
    "duration": 179,
    "start_time": "2023-08-16T08:37:40.265Z"
   },
   {
    "duration": 19,
    "start_time": "2023-08-16T08:37:40.918Z"
   },
   {
    "duration": 17,
    "start_time": "2023-08-16T08:39:38.246Z"
   },
   {
    "duration": 1448,
    "start_time": "2023-08-16T08:40:03.229Z"
   },
   {
    "duration": 43,
    "start_time": "2023-08-16T08:40:04.679Z"
   },
   {
    "duration": 20,
    "start_time": "2023-08-16T08:40:04.724Z"
   },
   {
    "duration": 14,
    "start_time": "2023-08-16T08:40:04.746Z"
   },
   {
    "duration": 22,
    "start_time": "2023-08-16T08:40:04.762Z"
   },
   {
    "duration": 9,
    "start_time": "2023-08-16T08:40:04.786Z"
   },
   {
    "duration": 20,
    "start_time": "2023-08-16T08:40:04.797Z"
   },
   {
    "duration": 11,
    "start_time": "2023-08-16T08:40:04.819Z"
   },
   {
    "duration": 80,
    "start_time": "2023-08-16T08:40:04.857Z"
   },
   {
    "duration": 5,
    "start_time": "2023-08-16T08:40:04.940Z"
   },
   {
    "duration": 22,
    "start_time": "2023-08-16T08:40:04.946Z"
   },
   {
    "duration": 4,
    "start_time": "2023-08-16T08:40:04.970Z"
   },
   {
    "duration": 20,
    "start_time": "2023-08-16T08:40:04.975Z"
   },
   {
    "duration": 13,
    "start_time": "2023-08-16T08:40:04.997Z"
   },
   {
    "duration": 11,
    "start_time": "2023-08-16T08:40:05.012Z"
   },
   {
    "duration": 6,
    "start_time": "2023-08-16T08:40:05.025Z"
   },
   {
    "duration": 140,
    "start_time": "2023-08-16T08:40:05.033Z"
   },
   {
    "duration": 0,
    "start_time": "2023-08-16T08:40:05.175Z"
   },
   {
    "duration": 0,
    "start_time": "2023-08-16T08:40:05.176Z"
   },
   {
    "duration": 9,
    "start_time": "2023-08-16T08:40:45.984Z"
   },
   {
    "duration": 1490,
    "start_time": "2023-08-16T08:40:51.372Z"
   },
   {
    "duration": 41,
    "start_time": "2023-08-16T08:40:52.864Z"
   },
   {
    "duration": 18,
    "start_time": "2023-08-16T08:40:52.907Z"
   },
   {
    "duration": 15,
    "start_time": "2023-08-16T08:40:52.928Z"
   },
   {
    "duration": 25,
    "start_time": "2023-08-16T08:40:52.956Z"
   },
   {
    "duration": 11,
    "start_time": "2023-08-16T08:40:52.983Z"
   },
   {
    "duration": 14,
    "start_time": "2023-08-16T08:40:52.996Z"
   },
   {
    "duration": 53,
    "start_time": "2023-08-16T08:40:53.012Z"
   },
   {
    "duration": 43,
    "start_time": "2023-08-16T08:40:53.067Z"
   },
   {
    "duration": 131,
    "start_time": "2023-08-16T08:40:53.112Z"
   },
   {
    "duration": 43,
    "start_time": "2023-08-16T08:40:53.245Z"
   },
   {
    "duration": 5,
    "start_time": "2023-08-16T08:40:53.290Z"
   },
   {
    "duration": 16,
    "start_time": "2023-08-16T08:40:53.297Z"
   },
   {
    "duration": 17,
    "start_time": "2023-08-16T08:40:53.315Z"
   },
   {
    "duration": 24,
    "start_time": "2023-08-16T08:40:53.334Z"
   },
   {
    "duration": 7,
    "start_time": "2023-08-16T08:40:53.360Z"
   },
   {
    "duration": 131,
    "start_time": "2023-08-16T08:40:53.368Z"
   },
   {
    "duration": 0,
    "start_time": "2023-08-16T08:40:53.502Z"
   },
   {
    "duration": 0,
    "start_time": "2023-08-16T08:40:53.503Z"
   },
   {
    "duration": 8,
    "start_time": "2023-08-16T08:41:57.804Z"
   },
   {
    "duration": 12,
    "start_time": "2023-08-16T08:42:05.669Z"
   },
   {
    "duration": 5495,
    "start_time": "2023-08-16T08:42:13.414Z"
   },
   {
    "duration": 76,
    "start_time": "2023-08-16T08:44:03.937Z"
   },
   {
    "duration": 368,
    "start_time": "2023-08-16T08:44:17.090Z"
   },
   {
    "duration": 164,
    "start_time": "2023-08-16T08:44:38.444Z"
   },
   {
    "duration": 7,
    "start_time": "2023-08-16T08:45:39.753Z"
   },
   {
    "duration": 6,
    "start_time": "2023-08-16T08:45:42.029Z"
   },
   {
    "duration": 1578,
    "start_time": "2023-08-16T09:54:43.973Z"
   },
   {
    "duration": 44,
    "start_time": "2023-08-16T09:54:45.555Z"
   },
   {
    "duration": 21,
    "start_time": "2023-08-16T09:54:45.601Z"
   },
   {
    "duration": 14,
    "start_time": "2023-08-16T09:54:45.623Z"
   },
   {
    "duration": 39,
    "start_time": "2023-08-16T09:54:45.639Z"
   },
   {
    "duration": 11,
    "start_time": "2023-08-16T09:54:45.680Z"
   },
   {
    "duration": 37,
    "start_time": "2023-08-16T09:54:45.693Z"
   },
   {
    "duration": 25,
    "start_time": "2023-08-16T09:54:45.732Z"
   },
   {
    "duration": 42,
    "start_time": "2023-08-16T09:54:45.759Z"
   },
   {
    "duration": 6,
    "start_time": "2023-08-16T09:54:45.803Z"
   },
   {
    "duration": 59,
    "start_time": "2023-08-16T09:54:45.811Z"
   },
   {
    "duration": 4,
    "start_time": "2023-08-16T09:54:45.871Z"
   },
   {
    "duration": 13,
    "start_time": "2023-08-16T09:54:45.877Z"
   },
   {
    "duration": 14,
    "start_time": "2023-08-16T09:54:45.892Z"
   },
   {
    "duration": 12,
    "start_time": "2023-08-16T09:54:45.908Z"
   },
   {
    "duration": 41,
    "start_time": "2023-08-16T09:54:45.922Z"
   },
   {
    "duration": 7,
    "start_time": "2023-08-16T09:54:45.965Z"
   },
   {
    "duration": 5737,
    "start_time": "2023-08-16T09:54:45.974Z"
   },
   {
    "duration": 267,
    "start_time": "2023-08-16T09:54:51.713Z"
   },
   {
    "duration": 174,
    "start_time": "2023-08-16T09:54:51.982Z"
   },
   {
    "duration": 8,
    "start_time": "2023-08-16T09:54:52.158Z"
   },
   {
    "duration": 68,
    "start_time": "2023-08-16T09:54:52.168Z"
   },
   {
    "duration": 20,
    "start_time": "2023-08-16T09:54:52.238Z"
   },
   {
    "duration": 399,
    "start_time": "2023-08-16T09:56:19.783Z"
   },
   {
    "duration": 296,
    "start_time": "2023-08-16T09:57:05.074Z"
   },
   {
    "duration": 116,
    "start_time": "2023-08-16T09:59:35.951Z"
   },
   {
    "duration": 54,
    "start_time": "2023-08-16T10:00:14.556Z"
   },
   {
    "duration": 199,
    "start_time": "2023-08-16T10:00:38.561Z"
   },
   {
    "duration": 63,
    "start_time": "2023-08-16T10:01:50.170Z"
   },
   {
    "duration": 58,
    "start_time": "2023-08-16T10:02:05.078Z"
   },
   {
    "duration": 297,
    "start_time": "2023-08-16T10:02:51.605Z"
   },
   {
    "duration": 62,
    "start_time": "2023-08-16T10:03:17.397Z"
   },
   {
    "duration": 285,
    "start_time": "2023-08-16T10:03:20.374Z"
   },
   {
    "duration": 57,
    "start_time": "2023-08-16T10:03:21.736Z"
   },
   {
    "duration": 5,
    "start_time": "2023-08-16T10:18:50.866Z"
   },
   {
    "duration": 44,
    "start_time": "2023-08-16T10:18:53.767Z"
   },
   {
    "duration": 4,
    "start_time": "2023-08-16T10:19:13.230Z"
   },
   {
    "duration": 15,
    "start_time": "2023-08-16T10:19:18.409Z"
   },
   {
    "duration": 402,
    "start_time": "2023-08-16T10:20:22.477Z"
   },
   {
    "duration": 187,
    "start_time": "2023-08-16T10:20:24.179Z"
   },
   {
    "duration": 13,
    "start_time": "2023-08-16T10:26:13.835Z"
   },
   {
    "duration": 11,
    "start_time": "2023-08-16T10:26:20.021Z"
   },
   {
    "duration": 13,
    "start_time": "2023-08-16T10:26:25.718Z"
   },
   {
    "duration": 168,
    "start_time": "2023-08-16T10:26:27.019Z"
   },
   {
    "duration": 39,
    "start_time": "2023-08-16T10:26:28.122Z"
   },
   {
    "duration": 130,
    "start_time": "2023-08-16T11:19:35.836Z"
   },
   {
    "duration": 4,
    "start_time": "2023-08-16T11:19:58.622Z"
   },
   {
    "duration": 248,
    "start_time": "2023-08-16T11:20:04.446Z"
   },
   {
    "duration": 174,
    "start_time": "2023-08-16T11:21:14.186Z"
   },
   {
    "duration": 193,
    "start_time": "2023-08-16T11:21:33.783Z"
   },
   {
    "duration": 6,
    "start_time": "2023-08-16T11:23:46.954Z"
   },
   {
    "duration": 14,
    "start_time": "2023-08-16T11:23:47.450Z"
   },
   {
    "duration": 418,
    "start_time": "2023-08-16T11:23:48.150Z"
   },
   {
    "duration": 86,
    "start_time": "2023-08-16T11:23:53.575Z"
   },
   {
    "duration": 62,
    "start_time": "2023-08-16T11:23:55.546Z"
   },
   {
    "duration": 13,
    "start_time": "2023-08-16T11:23:56.211Z"
   },
   {
    "duration": 13,
    "start_time": "2023-08-16T11:24:02.428Z"
   },
   {
    "duration": 191,
    "start_time": "2023-08-16T11:24:03.052Z"
   },
   {
    "duration": 53,
    "start_time": "2023-08-16T11:24:04.303Z"
   },
   {
    "duration": 318,
    "start_time": "2023-08-16T11:24:23.675Z"
   },
   {
    "duration": 355,
    "start_time": "2023-08-16T11:25:48.849Z"
   },
   {
    "duration": 343,
    "start_time": "2023-08-16T11:26:04.031Z"
   },
   {
    "duration": 320,
    "start_time": "2023-08-16T11:26:19.494Z"
   },
   {
    "duration": 389,
    "start_time": "2023-08-16T11:34:22.987Z"
   },
   {
    "duration": 1660,
    "start_time": "2023-08-16T11:35:08.206Z"
   },
   {
    "duration": 44,
    "start_time": "2023-08-16T11:35:09.868Z"
   },
   {
    "duration": 19,
    "start_time": "2023-08-16T11:35:09.914Z"
   },
   {
    "duration": 13,
    "start_time": "2023-08-16T11:35:09.935Z"
   },
   {
    "duration": 30,
    "start_time": "2023-08-16T11:35:09.950Z"
   },
   {
    "duration": 9,
    "start_time": "2023-08-16T11:35:09.981Z"
   },
   {
    "duration": 14,
    "start_time": "2023-08-16T11:35:09.992Z"
   },
   {
    "duration": 13,
    "start_time": "2023-08-16T11:35:10.008Z"
   },
   {
    "duration": 52,
    "start_time": "2023-08-16T11:35:10.058Z"
   },
   {
    "duration": 8,
    "start_time": "2023-08-16T11:35:10.113Z"
   },
   {
    "duration": 54,
    "start_time": "2023-08-16T11:35:10.122Z"
   },
   {
    "duration": 5,
    "start_time": "2023-08-16T11:35:10.178Z"
   },
   {
    "duration": 18,
    "start_time": "2023-08-16T11:35:10.185Z"
   },
   {
    "duration": 17,
    "start_time": "2023-08-16T11:35:10.205Z"
   },
   {
    "duration": 37,
    "start_time": "2023-08-16T11:35:10.224Z"
   },
   {
    "duration": 9,
    "start_time": "2023-08-16T11:35:10.263Z"
   },
   {
    "duration": 8,
    "start_time": "2023-08-16T11:35:10.274Z"
   },
   {
    "duration": 5751,
    "start_time": "2023-08-16T11:35:10.284Z"
   },
   {
    "duration": 262,
    "start_time": "2023-08-16T11:35:16.037Z"
   },
   {
    "duration": 178,
    "start_time": "2023-08-16T11:35:16.301Z"
   },
   {
    "duration": 8,
    "start_time": "2023-08-16T11:35:16.481Z"
   },
   {
    "duration": 55,
    "start_time": "2023-08-16T11:35:16.491Z"
   },
   {
    "duration": 233,
    "start_time": "2023-08-16T11:35:16.548Z"
   },
   {
    "duration": 75,
    "start_time": "2023-08-16T11:35:16.783Z"
   },
   {
    "duration": 99,
    "start_time": "2023-08-16T11:35:16.859Z"
   },
   {
    "duration": 30,
    "start_time": "2023-08-16T11:35:16.960Z"
   },
   {
    "duration": 367,
    "start_time": "2023-08-16T11:35:16.992Z"
   },
   {
    "duration": 194,
    "start_time": "2023-08-16T11:35:17.364Z"
   },
   {
    "duration": 13,
    "start_time": "2023-08-16T11:35:17.560Z"
   },
   {
    "duration": 174,
    "start_time": "2023-08-16T11:35:17.575Z"
   },
   {
    "duration": 111,
    "start_time": "2023-08-16T11:35:17.751Z"
   },
   {
    "duration": 141,
    "start_time": "2023-08-16T11:35:17.867Z"
   },
   {
    "duration": 0,
    "start_time": "2023-08-16T11:35:18.010Z"
   },
   {
    "duration": 0,
    "start_time": "2023-08-16T11:35:18.012Z"
   },
   {
    "duration": 0,
    "start_time": "2023-08-16T11:35:18.013Z"
   },
   {
    "duration": 0,
    "start_time": "2023-08-16T11:35:18.014Z"
   },
   {
    "duration": 257,
    "start_time": "2023-08-16T11:35:48.356Z"
   },
   {
    "duration": 107,
    "start_time": "2023-08-16T11:35:49.461Z"
   },
   {
    "duration": 195,
    "start_time": "2023-08-16T11:36:22.472Z"
   },
   {
    "duration": 276,
    "start_time": "2023-08-16T11:37:24.280Z"
   },
   {
    "duration": 1558,
    "start_time": "2023-08-16T11:37:48.517Z"
   },
   {
    "duration": 43,
    "start_time": "2023-08-16T11:37:50.078Z"
   },
   {
    "duration": 28,
    "start_time": "2023-08-16T11:37:50.123Z"
   },
   {
    "duration": 18,
    "start_time": "2023-08-16T11:37:50.153Z"
   },
   {
    "duration": 43,
    "start_time": "2023-08-16T11:37:50.174Z"
   },
   {
    "duration": 10,
    "start_time": "2023-08-16T11:37:50.219Z"
   },
   {
    "duration": 16,
    "start_time": "2023-08-16T11:37:50.257Z"
   },
   {
    "duration": 51,
    "start_time": "2023-08-16T11:37:50.275Z"
   },
   {
    "duration": 58,
    "start_time": "2023-08-16T11:37:50.329Z"
   },
   {
    "duration": 9,
    "start_time": "2023-08-16T11:37:50.392Z"
   },
   {
    "duration": 41,
    "start_time": "2023-08-16T11:37:50.404Z"
   },
   {
    "duration": 40,
    "start_time": "2023-08-16T11:37:50.447Z"
   },
   {
    "duration": 57,
    "start_time": "2023-08-16T11:37:50.490Z"
   },
   {
    "duration": 30,
    "start_time": "2023-08-16T11:37:50.549Z"
   },
   {
    "duration": 46,
    "start_time": "2023-08-16T11:37:50.581Z"
   },
   {
    "duration": 65,
    "start_time": "2023-08-16T11:37:50.629Z"
   },
   {
    "duration": 35,
    "start_time": "2023-08-16T11:37:50.696Z"
   },
   {
    "duration": 5838,
    "start_time": "2023-08-16T11:37:50.734Z"
   },
   {
    "duration": 264,
    "start_time": "2023-08-16T11:37:56.574Z"
   },
   {
    "duration": 173,
    "start_time": "2023-08-16T11:37:56.840Z"
   },
   {
    "duration": 9,
    "start_time": "2023-08-16T11:37:57.015Z"
   },
   {
    "duration": 28,
    "start_time": "2023-08-16T11:37:57.025Z"
   },
   {
    "duration": 266,
    "start_time": "2023-08-16T11:37:57.055Z"
   },
   {
    "duration": 147,
    "start_time": "2023-08-16T11:37:57.323Z"
   },
   {
    "duration": 7,
    "start_time": "2023-08-16T11:37:57.472Z"
   },
   {
    "duration": 96,
    "start_time": "2023-08-16T11:37:57.480Z"
   },
   {
    "duration": 370,
    "start_time": "2023-08-16T11:37:57.581Z"
   },
   {
    "duration": 100,
    "start_time": "2023-08-16T11:37:57.955Z"
   },
   {
    "duration": 104,
    "start_time": "2023-08-16T11:37:58.058Z"
   },
   {
    "duration": 181,
    "start_time": "2023-08-16T11:37:58.165Z"
   },
   {
    "duration": 118,
    "start_time": "2023-08-16T11:37:58.348Z"
   },
   {
    "duration": 292,
    "start_time": "2023-08-16T11:37:58.468Z"
   },
   {
    "duration": 362,
    "start_time": "2023-08-16T11:37:58.762Z"
   },
   {
    "duration": 8,
    "start_time": "2023-08-16T11:37:59.126Z"
   },
   {
    "duration": 364,
    "start_time": "2023-08-16T11:37:59.136Z"
   },
   {
    "duration": 314,
    "start_time": "2023-08-16T11:38:57.838Z"
   },
   {
    "duration": 79,
    "start_time": "2023-08-16T11:44:39.053Z"
   },
   {
    "duration": 479,
    "start_time": "2023-08-16T11:48:31.305Z"
   },
   {
    "duration": 286,
    "start_time": "2023-08-16T11:48:47.020Z"
   },
   {
    "duration": 14,
    "start_time": "2023-08-16T12:01:38.452Z"
   },
   {
    "duration": 5,
    "start_time": "2023-08-16T12:01:44.610Z"
   },
   {
    "duration": 8,
    "start_time": "2023-08-16T12:01:48.765Z"
   },
   {
    "duration": 6,
    "start_time": "2023-08-16T12:03:08.272Z"
   },
   {
    "duration": 1756,
    "start_time": "2023-08-16T12:04:07.329Z"
   },
   {
    "duration": 56,
    "start_time": "2023-08-16T12:04:09.088Z"
   },
   {
    "duration": 29,
    "start_time": "2023-08-16T12:04:09.146Z"
   },
   {
    "duration": 34,
    "start_time": "2023-08-16T12:04:09.181Z"
   },
   {
    "duration": 31,
    "start_time": "2023-08-16T12:04:09.218Z"
   },
   {
    "duration": 17,
    "start_time": "2023-08-16T12:04:09.258Z"
   },
   {
    "duration": 32,
    "start_time": "2023-08-16T12:04:09.281Z"
   },
   {
    "duration": 19,
    "start_time": "2023-08-16T12:04:09.316Z"
   },
   {
    "duration": 79,
    "start_time": "2023-08-16T12:04:09.338Z"
   },
   {
    "duration": 11,
    "start_time": "2023-08-16T12:04:09.420Z"
   },
   {
    "duration": 54,
    "start_time": "2023-08-16T12:04:09.433Z"
   },
   {
    "duration": 5,
    "start_time": "2023-08-16T12:04:09.489Z"
   },
   {
    "duration": 17,
    "start_time": "2023-08-16T12:04:09.496Z"
   },
   {
    "duration": 16,
    "start_time": "2023-08-16T12:04:09.516Z"
   },
   {
    "duration": 14,
    "start_time": "2023-08-16T12:04:09.556Z"
   },
   {
    "duration": 25,
    "start_time": "2023-08-16T12:04:09.571Z"
   },
   {
    "duration": 10,
    "start_time": "2023-08-16T12:04:09.600Z"
   },
   {
    "duration": 5952,
    "start_time": "2023-08-16T12:04:09.613Z"
   },
   {
    "duration": 275,
    "start_time": "2023-08-16T12:04:15.567Z"
   },
   {
    "duration": 180,
    "start_time": "2023-08-16T12:04:15.845Z"
   },
   {
    "duration": 8,
    "start_time": "2023-08-16T12:04:16.027Z"
   },
   {
    "duration": 55,
    "start_time": "2023-08-16T12:04:16.037Z"
   },
   {
    "duration": 265,
    "start_time": "2023-08-16T12:04:16.094Z"
   },
   {
    "duration": 99,
    "start_time": "2023-08-16T12:04:16.362Z"
   },
   {
    "duration": 9,
    "start_time": "2023-08-16T12:04:16.463Z"
   },
   {
    "duration": 98,
    "start_time": "2023-08-16T12:04:16.474Z"
   },
   {
    "duration": 320,
    "start_time": "2023-08-16T12:04:16.574Z"
   },
   {
    "duration": 82,
    "start_time": "2023-08-16T12:04:16.896Z"
   },
   {
    "duration": 20,
    "start_time": "2023-08-16T12:04:17.057Z"
   },
   {
    "duration": 182,
    "start_time": "2023-08-16T12:04:17.079Z"
   },
   {
    "duration": 94,
    "start_time": "2023-08-16T12:04:17.265Z"
   },
   {
    "duration": 300,
    "start_time": "2023-08-16T12:04:17.363Z"
   },
   {
    "duration": 313,
    "start_time": "2023-08-16T12:04:17.667Z"
   },
   {
    "duration": 6,
    "start_time": "2023-08-16T12:04:17.982Z"
   },
   {
    "duration": 329,
    "start_time": "2023-08-16T12:04:17.990Z"
   },
   {
    "duration": 8,
    "start_time": "2023-08-16T12:04:18.321Z"
   },
   {
    "duration": 83,
    "start_time": "2023-08-16T12:04:47.324Z"
   },
   {
    "duration": 1482,
    "start_time": "2023-08-16T12:09:53.013Z"
   },
   {
    "duration": 42,
    "start_time": "2023-08-16T12:09:54.498Z"
   },
   {
    "duration": 30,
    "start_time": "2023-08-16T12:09:54.542Z"
   },
   {
    "duration": 28,
    "start_time": "2023-08-16T12:09:54.574Z"
   },
   {
    "duration": 37,
    "start_time": "2023-08-16T12:09:54.604Z"
   },
   {
    "duration": 30,
    "start_time": "2023-08-16T12:09:54.643Z"
   },
   {
    "duration": 15,
    "start_time": "2023-08-16T12:09:54.674Z"
   },
   {
    "duration": 13,
    "start_time": "2023-08-16T12:09:54.691Z"
   },
   {
    "duration": 63,
    "start_time": "2023-08-16T12:09:54.707Z"
   },
   {
    "duration": 7,
    "start_time": "2023-08-16T12:09:54.774Z"
   },
   {
    "duration": 33,
    "start_time": "2023-08-16T12:09:54.783Z"
   },
   {
    "duration": 4,
    "start_time": "2023-08-16T12:09:54.818Z"
   },
   {
    "duration": 36,
    "start_time": "2023-08-16T12:09:54.824Z"
   },
   {
    "duration": 18,
    "start_time": "2023-08-16T12:09:54.863Z"
   },
   {
    "duration": 21,
    "start_time": "2023-08-16T12:09:54.883Z"
   },
   {
    "duration": 9,
    "start_time": "2023-08-16T12:09:54.906Z"
   },
   {
    "duration": 19,
    "start_time": "2023-08-16T12:09:54.917Z"
   },
   {
    "duration": 5738,
    "start_time": "2023-08-16T12:09:54.938Z"
   },
   {
    "duration": 254,
    "start_time": "2023-08-16T12:10:00.679Z"
   },
   {
    "duration": 178,
    "start_time": "2023-08-16T12:10:00.935Z"
   },
   {
    "duration": 9,
    "start_time": "2023-08-16T12:10:01.114Z"
   },
   {
    "duration": 109,
    "start_time": "2023-08-16T12:10:01.125Z"
   },
   {
    "duration": 305,
    "start_time": "2023-08-16T12:10:01.236Z"
   },
   {
    "duration": 115,
    "start_time": "2023-08-16T12:10:01.543Z"
   },
   {
    "duration": 139,
    "start_time": "2023-08-16T12:10:01.659Z"
   },
   {
    "duration": 95,
    "start_time": "2023-08-16T12:10:01.800Z"
   },
   {
    "duration": 375,
    "start_time": "2023-08-16T12:10:01.896Z"
   },
   {
    "duration": 82,
    "start_time": "2023-08-16T12:10:02.274Z"
   },
   {
    "duration": 139,
    "start_time": "2023-08-16T12:10:02.359Z"
   },
   {
    "duration": 180,
    "start_time": "2023-08-16T12:10:02.500Z"
   },
   {
    "duration": 19,
    "start_time": "2023-08-16T12:10:02.682Z"
   },
   {
    "duration": 308,
    "start_time": "2023-08-16T12:10:02.765Z"
   },
   {
    "duration": 287,
    "start_time": "2023-08-16T12:10:03.075Z"
   },
   {
    "duration": 6,
    "start_time": "2023-08-16T12:10:03.371Z"
   },
   {
    "duration": 317,
    "start_time": "2023-08-16T12:10:03.379Z"
   },
   {
    "duration": 7,
    "start_time": "2023-08-16T12:10:03.698Z"
   },
   {
    "duration": 2328,
    "start_time": "2023-08-16T12:21:49.686Z"
   },
   {
    "duration": 44,
    "start_time": "2023-08-16T12:21:52.016Z"
   },
   {
    "duration": 27,
    "start_time": "2023-08-16T12:21:52.063Z"
   },
   {
    "duration": 27,
    "start_time": "2023-08-16T12:21:52.092Z"
   },
   {
    "duration": 45,
    "start_time": "2023-08-16T12:21:52.121Z"
   },
   {
    "duration": 9,
    "start_time": "2023-08-16T12:21:52.168Z"
   },
   {
    "duration": 38,
    "start_time": "2023-08-16T12:21:52.180Z"
   },
   {
    "duration": 16,
    "start_time": "2023-08-16T12:21:52.220Z"
   },
   {
    "duration": 70,
    "start_time": "2023-08-16T12:21:52.239Z"
   },
   {
    "duration": 6,
    "start_time": "2023-08-16T12:21:52.312Z"
   },
   {
    "duration": 55,
    "start_time": "2023-08-16T12:21:52.320Z"
   },
   {
    "duration": 18,
    "start_time": "2023-08-16T12:21:52.376Z"
   },
   {
    "duration": 25,
    "start_time": "2023-08-16T12:21:52.395Z"
   },
   {
    "duration": 20,
    "start_time": "2023-08-16T12:21:52.422Z"
   },
   {
    "duration": 15,
    "start_time": "2023-08-16T12:21:52.444Z"
   },
   {
    "duration": 41,
    "start_time": "2023-08-16T12:21:52.461Z"
   },
   {
    "duration": 21,
    "start_time": "2023-08-16T12:21:52.505Z"
   },
   {
    "duration": 6208,
    "start_time": "2023-08-16T12:21:52.528Z"
   },
   {
    "duration": 295,
    "start_time": "2023-08-16T12:21:58.738Z"
   },
   {
    "duration": 175,
    "start_time": "2023-08-16T12:21:59.034Z"
   },
   {
    "duration": 8,
    "start_time": "2023-08-16T12:21:59.211Z"
   },
   {
    "duration": 9,
    "start_time": "2023-08-16T12:21:59.221Z"
   },
   {
    "duration": 267,
    "start_time": "2023-08-16T12:21:59.231Z"
   },
   {
    "duration": 70,
    "start_time": "2023-08-16T12:21:59.500Z"
   },
   {
    "duration": 91,
    "start_time": "2023-08-16T12:21:59.571Z"
   },
   {
    "duration": 35,
    "start_time": "2023-08-16T12:21:59.664Z"
   },
   {
    "duration": 361,
    "start_time": "2023-08-16T12:21:59.701Z"
   },
   {
    "duration": 102,
    "start_time": "2023-08-16T12:22:00.068Z"
   },
   {
    "duration": 100,
    "start_time": "2023-08-16T12:22:00.174Z"
   },
   {
    "duration": 230,
    "start_time": "2023-08-16T12:22:00.276Z"
   },
   {
    "duration": 51,
    "start_time": "2023-08-16T12:22:00.508Z"
   },
   {
    "duration": 307,
    "start_time": "2023-08-16T12:22:00.563Z"
   },
   {
    "duration": 330,
    "start_time": "2023-08-16T12:22:00.873Z"
   },
   {
    "duration": 6,
    "start_time": "2023-08-16T12:22:01.204Z"
   },
   {
    "duration": 376,
    "start_time": "2023-08-16T12:22:01.212Z"
   },
   {
    "duration": 6,
    "start_time": "2023-08-16T12:22:01.590Z"
   },
   {
    "duration": 1508,
    "start_time": "2023-08-17T07:42:37.749Z"
   },
   {
    "duration": 158,
    "start_time": "2023-08-17T07:42:39.259Z"
   },
   {
    "duration": 16,
    "start_time": "2023-08-17T07:42:39.419Z"
   },
   {
    "duration": 11,
    "start_time": "2023-08-17T07:42:39.437Z"
   },
   {
    "duration": 19,
    "start_time": "2023-08-17T07:42:39.450Z"
   },
   {
    "duration": 7,
    "start_time": "2023-08-17T07:42:39.471Z"
   },
   {
    "duration": 25,
    "start_time": "2023-08-17T07:42:39.479Z"
   },
   {
    "duration": 17,
    "start_time": "2023-08-17T07:42:39.506Z"
   },
   {
    "duration": 35,
    "start_time": "2023-08-17T07:42:39.525Z"
   },
   {
    "duration": 5,
    "start_time": "2023-08-17T07:42:39.562Z"
   },
   {
    "duration": 36,
    "start_time": "2023-08-17T07:42:39.568Z"
   },
   {
    "duration": 4,
    "start_time": "2023-08-17T07:42:39.605Z"
   },
   {
    "duration": 11,
    "start_time": "2023-08-17T07:42:39.611Z"
   },
   {
    "duration": 10,
    "start_time": "2023-08-17T07:42:39.623Z"
   },
   {
    "duration": 8,
    "start_time": "2023-08-17T07:42:39.635Z"
   },
   {
    "duration": 9,
    "start_time": "2023-08-17T07:42:39.644Z"
   },
   {
    "duration": 6,
    "start_time": "2023-08-17T07:42:39.655Z"
   },
   {
    "duration": 5694,
    "start_time": "2023-08-17T07:42:39.662Z"
   },
   {
    "duration": 269,
    "start_time": "2023-08-17T07:42:45.358Z"
   },
   {
    "duration": 161,
    "start_time": "2023-08-17T07:42:45.629Z"
   },
   {
    "duration": 7,
    "start_time": "2023-08-17T07:42:45.791Z"
   },
   {
    "duration": 7,
    "start_time": "2023-08-17T07:42:45.800Z"
   },
   {
    "duration": 265,
    "start_time": "2023-08-17T07:42:45.809Z"
   },
   {
    "duration": 106,
    "start_time": "2023-08-17T07:42:46.076Z"
   },
   {
    "duration": 89,
    "start_time": "2023-08-17T07:42:46.188Z"
   },
   {
    "duration": 11,
    "start_time": "2023-08-17T07:42:46.279Z"
   },
   {
    "duration": 373,
    "start_time": "2023-08-17T07:42:46.292Z"
   },
   {
    "duration": 102,
    "start_time": "2023-08-17T07:42:46.674Z"
   },
   {
    "duration": 102,
    "start_time": "2023-08-17T07:42:46.778Z"
   },
   {
    "duration": 157,
    "start_time": "2023-08-17T07:42:46.882Z"
   },
   {
    "duration": 36,
    "start_time": "2023-08-17T07:42:47.041Z"
   },
   {
    "duration": 304,
    "start_time": "2023-08-17T07:42:47.080Z"
   },
   {
    "duration": 289,
    "start_time": "2023-08-17T07:42:47.385Z"
   },
   {
    "duration": 6,
    "start_time": "2023-08-17T07:42:47.676Z"
   },
   {
    "duration": 307,
    "start_time": "2023-08-17T07:42:47.684Z"
   },
   {
    "duration": 5,
    "start_time": "2023-08-17T07:42:47.993Z"
   },
   {
    "duration": 6973,
    "start_time": "2023-08-17T07:45:37.999Z"
   },
   {
    "duration": 149,
    "start_time": "2023-08-17T07:48:12.175Z"
   },
   {
    "duration": 142,
    "start_time": "2023-08-17T07:48:13.253Z"
   },
   {
    "duration": 7,
    "start_time": "2023-08-17T07:48:21.239Z"
   },
   {
    "duration": 8,
    "start_time": "2023-08-17T07:48:24.275Z"
   },
   {
    "duration": 1798,
    "start_time": "2023-08-17T15:05:23.695Z"
   },
   {
    "duration": 167,
    "start_time": "2023-08-17T15:05:25.496Z"
   },
   {
    "duration": 41,
    "start_time": "2023-08-17T15:05:25.665Z"
   },
   {
    "duration": 23,
    "start_time": "2023-08-17T15:05:25.708Z"
   },
   {
    "duration": 58,
    "start_time": "2023-08-17T15:05:25.734Z"
   },
   {
    "duration": 10,
    "start_time": "2023-08-17T15:05:25.795Z"
   },
   {
    "duration": 32,
    "start_time": "2023-08-17T15:05:25.807Z"
   },
   {
    "duration": 27,
    "start_time": "2023-08-17T15:05:25.841Z"
   },
   {
    "duration": 81,
    "start_time": "2023-08-17T15:05:25.873Z"
   },
   {
    "duration": 8,
    "start_time": "2023-08-17T15:05:25.957Z"
   },
   {
    "duration": 36,
    "start_time": "2023-08-17T15:05:25.969Z"
   },
   {
    "duration": 6,
    "start_time": "2023-08-17T15:05:26.007Z"
   },
   {
    "duration": 19,
    "start_time": "2023-08-17T15:05:26.015Z"
   },
   {
    "duration": 13,
    "start_time": "2023-08-17T15:05:26.039Z"
   },
   {
    "duration": 18,
    "start_time": "2023-08-17T15:05:26.071Z"
   },
   {
    "duration": 10,
    "start_time": "2023-08-17T15:05:26.092Z"
   },
   {
    "duration": 14,
    "start_time": "2023-08-17T15:05:26.105Z"
   },
   {
    "duration": 6511,
    "start_time": "2023-08-17T15:05:26.121Z"
   },
   {
    "duration": 156,
    "start_time": "2023-08-17T15:05:32.634Z"
   },
   {
    "duration": 199,
    "start_time": "2023-08-17T15:05:32.792Z"
   },
   {
    "duration": 9,
    "start_time": "2023-08-17T15:05:32.993Z"
   },
   {
    "duration": 24,
    "start_time": "2023-08-17T15:05:33.004Z"
   },
   {
    "duration": 297,
    "start_time": "2023-08-17T15:05:33.030Z"
   },
   {
    "duration": 61,
    "start_time": "2023-08-17T15:05:33.329Z"
   },
   {
    "duration": 76,
    "start_time": "2023-08-17T15:05:33.393Z"
   },
   {
    "duration": 104,
    "start_time": "2023-08-17T15:05:33.473Z"
   },
   {
    "duration": 365,
    "start_time": "2023-08-17T15:05:33.580Z"
   },
   {
    "duration": 129,
    "start_time": "2023-08-17T15:05:33.948Z"
   },
   {
    "duration": 15,
    "start_time": "2023-08-17T15:05:34.079Z"
   },
   {
    "duration": 293,
    "start_time": "2023-08-17T15:05:34.096Z"
   },
   {
    "duration": 18,
    "start_time": "2023-08-17T15:05:34.391Z"
   },
   {
    "duration": 271,
    "start_time": "2023-08-17T15:05:34.411Z"
   },
   {
    "duration": 388,
    "start_time": "2023-08-17T15:05:34.685Z"
   },
   {
    "duration": 15,
    "start_time": "2023-08-17T15:05:35.076Z"
   },
   {
    "duration": 355,
    "start_time": "2023-08-17T15:05:35.094Z"
   },
   {
    "duration": 6,
    "start_time": "2023-08-17T15:05:35.451Z"
   },
   {
    "duration": 7,
    "start_time": "2023-08-17T15:07:02.488Z"
   },
   {
    "duration": 40,
    "start_time": "2023-08-17T15:13:56.643Z"
   },
   {
    "duration": 1449,
    "start_time": "2023-08-17T15:15:25.444Z"
   },
   {
    "duration": 41,
    "start_time": "2023-08-17T15:15:26.896Z"
   },
   {
    "duration": 20,
    "start_time": "2023-08-17T15:15:26.938Z"
   },
   {
    "duration": 19,
    "start_time": "2023-08-17T15:15:26.959Z"
   },
   {
    "duration": 24,
    "start_time": "2023-08-17T15:15:26.982Z"
   },
   {
    "duration": 9,
    "start_time": "2023-08-17T15:15:27.008Z"
   },
   {
    "duration": 22,
    "start_time": "2023-08-17T15:15:27.019Z"
   },
   {
    "duration": 26,
    "start_time": "2023-08-17T15:15:27.043Z"
   },
   {
    "duration": 55,
    "start_time": "2023-08-17T15:15:27.071Z"
   },
   {
    "duration": 7,
    "start_time": "2023-08-17T15:15:27.128Z"
   },
   {
    "duration": 54,
    "start_time": "2023-08-17T15:15:27.137Z"
   },
   {
    "duration": 5,
    "start_time": "2023-08-17T15:15:27.193Z"
   },
   {
    "duration": 12,
    "start_time": "2023-08-17T15:15:27.200Z"
   },
   {
    "duration": 22,
    "start_time": "2023-08-17T15:15:27.215Z"
   },
   {
    "duration": 24,
    "start_time": "2023-08-17T15:15:27.239Z"
   },
   {
    "duration": 14,
    "start_time": "2023-08-17T15:15:27.266Z"
   },
   {
    "duration": 9,
    "start_time": "2023-08-17T15:15:27.283Z"
   },
   {
    "duration": 6433,
    "start_time": "2023-08-17T15:15:27.293Z"
   },
   {
    "duration": 129,
    "start_time": "2023-08-17T15:15:33.727Z"
   },
   {
    "duration": 237,
    "start_time": "2023-08-17T15:15:33.857Z"
   },
   {
    "duration": 10,
    "start_time": "2023-08-17T15:15:34.097Z"
   },
   {
    "duration": 15,
    "start_time": "2023-08-17T15:15:34.109Z"
   },
   {
    "duration": 97,
    "start_time": "2023-08-17T15:15:34.126Z"
   },
   {
    "duration": 1,
    "start_time": "2023-08-17T15:15:34.225Z"
   },
   {
    "duration": 0,
    "start_time": "2023-08-17T15:15:34.228Z"
   },
   {
    "duration": 0,
    "start_time": "2023-08-17T15:15:34.229Z"
   },
   {
    "duration": 0,
    "start_time": "2023-08-17T15:15:34.231Z"
   },
   {
    "duration": 0,
    "start_time": "2023-08-17T15:15:34.233Z"
   },
   {
    "duration": 0,
    "start_time": "2023-08-17T15:15:34.234Z"
   },
   {
    "duration": 0,
    "start_time": "2023-08-17T15:15:34.236Z"
   },
   {
    "duration": 0,
    "start_time": "2023-08-17T15:15:34.238Z"
   },
   {
    "duration": 0,
    "start_time": "2023-08-17T15:15:34.239Z"
   },
   {
    "duration": 0,
    "start_time": "2023-08-17T15:15:34.240Z"
   },
   {
    "duration": 0,
    "start_time": "2023-08-17T15:15:34.241Z"
   },
   {
    "duration": 0,
    "start_time": "2023-08-17T15:15:34.244Z"
   },
   {
    "duration": 0,
    "start_time": "2023-08-17T15:15:34.245Z"
   },
   {
    "duration": 0,
    "start_time": "2023-08-17T15:15:34.247Z"
   },
   {
    "duration": 36,
    "start_time": "2023-08-17T15:17:42.049Z"
   },
   {
    "duration": 74,
    "start_time": "2023-08-17T15:17:44.097Z"
   },
   {
    "duration": 253,
    "start_time": "2023-08-17T15:18:40.365Z"
   },
   {
    "duration": 24,
    "start_time": "2023-08-17T15:18:47.159Z"
   },
   {
    "duration": 6328,
    "start_time": "2023-08-17T15:19:31.084Z"
   },
   {
    "duration": 25,
    "start_time": "2023-08-17T15:20:45.533Z"
   },
   {
    "duration": 5775,
    "start_time": "2023-08-17T15:21:37.296Z"
   },
   {
    "duration": 79,
    "start_time": "2023-08-17T15:21:52.796Z"
   },
   {
    "duration": 198,
    "start_time": "2023-08-17T15:22:39.330Z"
   },
   {
    "duration": 12,
    "start_time": "2023-08-17T15:22:46.935Z"
   },
   {
    "duration": 4,
    "start_time": "2023-08-17T15:22:51.205Z"
   },
   {
    "duration": 9,
    "start_time": "2023-08-17T15:22:52.378Z"
   },
   {
    "duration": 8043,
    "start_time": "2023-08-17T15:22:54.077Z"
   },
   {
    "duration": 86,
    "start_time": "2023-08-17T15:23:05.683Z"
   },
   {
    "duration": 12,
    "start_time": "2023-08-17T15:23:48.277Z"
   },
   {
    "duration": 11,
    "start_time": "2023-08-17T15:23:54.992Z"
   },
   {
    "duration": 4015,
    "start_time": "2023-08-17T15:23:56.255Z"
   },
   {
    "duration": 99,
    "start_time": "2023-08-17T15:24:00.273Z"
   },
   {
    "duration": 150,
    "start_time": "2023-08-17T15:24:39.528Z"
   },
   {
    "duration": 80,
    "start_time": "2023-08-17T15:33:18.161Z"
   },
   {
    "duration": 71,
    "start_time": "2023-08-17T15:33:49.019Z"
   },
   {
    "duration": 108,
    "start_time": "2023-08-17T15:34:13.029Z"
   },
   {
    "duration": 67,
    "start_time": "2023-08-17T15:34:23.539Z"
   },
   {
    "duration": 77,
    "start_time": "2023-08-17T15:35:47.717Z"
   },
   {
    "duration": 78,
    "start_time": "2023-08-17T15:35:58.383Z"
   },
   {
    "duration": 75,
    "start_time": "2023-08-17T15:36:21.759Z"
   },
   {
    "duration": 61,
    "start_time": "2023-08-17T15:36:32.322Z"
   },
   {
    "duration": 73,
    "start_time": "2023-08-17T15:36:37.969Z"
   },
   {
    "duration": 5385,
    "start_time": "2023-08-17T15:36:54.128Z"
   },
   {
    "duration": 4,
    "start_time": "2023-08-17T15:37:16.155Z"
   },
   {
    "duration": 4,
    "start_time": "2023-08-17T15:37:24.174Z"
   },
   {
    "duration": 5,
    "start_time": "2023-08-17T15:37:54.880Z"
   },
   {
    "duration": 5620,
    "start_time": "2023-08-17T15:39:03.217Z"
   },
   {
    "duration": 4,
    "start_time": "2023-08-17T15:39:23.859Z"
   },
   {
    "duration": 4,
    "start_time": "2023-08-17T15:39:24.619Z"
   },
   {
    "duration": 5,
    "start_time": "2023-08-17T15:39:25.249Z"
   },
   {
    "duration": 360,
    "start_time": "2023-08-17T15:40:32.449Z"
   },
   {
    "duration": 65,
    "start_time": "2023-08-17T15:41:11.834Z"
   },
   {
    "duration": 336,
    "start_time": "2023-08-17T15:41:47.775Z"
   },
   {
    "duration": 5531,
    "start_time": "2023-08-17T15:43:07.588Z"
   },
   {
    "duration": 4,
    "start_time": "2023-08-17T15:43:19.140Z"
   },
   {
    "duration": 4,
    "start_time": "2023-08-17T15:43:19.797Z"
   },
   {
    "duration": 6,
    "start_time": "2023-08-17T15:43:21.794Z"
   },
   {
    "duration": 328,
    "start_time": "2023-08-17T15:43:27.223Z"
   },
   {
    "duration": 1703,
    "start_time": "2023-08-18T05:13:52.190Z"
   },
   {
    "duration": 166,
    "start_time": "2023-08-18T05:13:53.896Z"
   },
   {
    "duration": 30,
    "start_time": "2023-08-18T05:13:54.064Z"
   },
   {
    "duration": 22,
    "start_time": "2023-08-18T05:13:54.098Z"
   },
   {
    "duration": 53,
    "start_time": "2023-08-18T05:13:54.122Z"
   },
   {
    "duration": 12,
    "start_time": "2023-08-18T05:13:54.177Z"
   },
   {
    "duration": 16,
    "start_time": "2023-08-18T05:13:54.191Z"
   },
   {
    "duration": 15,
    "start_time": "2023-08-18T05:13:54.209Z"
   },
   {
    "duration": 71,
    "start_time": "2023-08-18T05:13:54.226Z"
   },
   {
    "duration": 8,
    "start_time": "2023-08-18T05:13:54.300Z"
   },
   {
    "duration": 68,
    "start_time": "2023-08-18T05:13:54.309Z"
   },
   {
    "duration": 6,
    "start_time": "2023-08-18T05:13:54.380Z"
   },
   {
    "duration": 42,
    "start_time": "2023-08-18T05:13:54.388Z"
   },
   {
    "duration": 35,
    "start_time": "2023-08-18T05:13:54.432Z"
   },
   {
    "duration": 28,
    "start_time": "2023-08-18T05:13:54.469Z"
   },
   {
    "duration": 18,
    "start_time": "2023-08-18T05:13:54.499Z"
   },
   {
    "duration": 52,
    "start_time": "2023-08-18T05:13:54.519Z"
   },
   {
    "duration": 5879,
    "start_time": "2023-08-18T05:13:54.573Z"
   },
   {
    "duration": 125,
    "start_time": "2023-08-18T05:14:00.454Z"
   },
   {
    "duration": 161,
    "start_time": "2023-08-18T05:14:00.581Z"
   },
   {
    "duration": 17,
    "start_time": "2023-08-18T05:14:00.743Z"
   },
   {
    "duration": 126,
    "start_time": "2023-08-18T05:14:00.763Z"
   },
   {
    "duration": 55,
    "start_time": "2023-08-18T05:14:00.891Z"
   },
   {
    "duration": 112,
    "start_time": "2023-08-18T05:14:00.948Z"
   },
   {
    "duration": 6161,
    "start_time": "2023-08-18T05:14:01.062Z"
   },
   {
    "duration": 35,
    "start_time": "2023-08-18T05:14:07.225Z"
   },
   {
    "duration": 6,
    "start_time": "2023-08-18T05:14:07.262Z"
   },
   {
    "duration": 12,
    "start_time": "2023-08-18T05:14:07.359Z"
   },
   {
    "duration": 7722,
    "start_time": "2023-08-18T05:14:07.373Z"
   },
   {
    "duration": 23,
    "start_time": "2023-08-18T05:14:15.097Z"
   },
   {
    "duration": 11,
    "start_time": "2023-08-18T05:14:15.161Z"
   },
   {
    "duration": 3685,
    "start_time": "2023-08-18T05:14:15.260Z"
   },
   {
    "duration": 22,
    "start_time": "2023-08-18T05:14:18.946Z"
   },
   {
    "duration": 398,
    "start_time": "2023-08-18T05:14:18.970Z"
   },
   {
    "duration": 5352,
    "start_time": "2023-08-18T05:14:19.370Z"
   },
   {
    "duration": 4,
    "start_time": "2023-08-18T05:14:24.724Z"
   },
   {
    "duration": 25,
    "start_time": "2023-08-18T05:14:24.729Z"
   },
   {
    "duration": 17,
    "start_time": "2023-08-18T05:14:24.756Z"
   },
   {
    "duration": 351,
    "start_time": "2023-08-18T05:14:24.775Z"
   },
   {
    "duration": 4,
    "start_time": "2023-08-18T05:14:25.128Z"
   },
   {
    "duration": 325,
    "start_time": "2023-08-18T05:14:25.134Z"
   },
   {
    "duration": 6,
    "start_time": "2023-08-18T05:14:25.460Z"
   },
   {
    "duration": 8961,
    "start_time": "2023-08-18T05:22:24.970Z"
   },
   {
    "duration": 3,
    "start_time": "2023-08-18T05:22:39.938Z"
   },
   {
    "duration": 5,
    "start_time": "2023-08-18T05:22:40.713Z"
   },
   {
    "duration": 4,
    "start_time": "2023-08-18T05:22:42.736Z"
   },
   {
    "duration": 471,
    "start_time": "2023-08-18T05:22:44.140Z"
   },
   {
    "duration": 456,
    "start_time": "2023-08-18T05:23:10.082Z"
   },
   {
    "duration": 349,
    "start_time": "2023-08-18T05:32:43.728Z"
   },
   {
    "duration": 1396,
    "start_time": "2023-08-18T05:33:08.986Z"
   },
   {
    "duration": 42,
    "start_time": "2023-08-18T05:33:10.384Z"
   },
   {
    "duration": 22,
    "start_time": "2023-08-18T05:33:10.428Z"
   },
   {
    "duration": 14,
    "start_time": "2023-08-18T05:33:10.452Z"
   },
   {
    "duration": 21,
    "start_time": "2023-08-18T05:33:10.468Z"
   },
   {
    "duration": 7,
    "start_time": "2023-08-18T05:33:10.491Z"
   },
   {
    "duration": 11,
    "start_time": "2023-08-18T05:33:10.500Z"
   },
   {
    "duration": 11,
    "start_time": "2023-08-18T05:33:10.512Z"
   },
   {
    "duration": 68,
    "start_time": "2023-08-18T05:33:10.524Z"
   },
   {
    "duration": 6,
    "start_time": "2023-08-18T05:33:10.593Z"
   },
   {
    "duration": 70,
    "start_time": "2023-08-18T05:33:10.600Z"
   },
   {
    "duration": 21,
    "start_time": "2023-08-18T05:33:10.671Z"
   },
   {
    "duration": 28,
    "start_time": "2023-08-18T05:33:10.694Z"
   },
   {
    "duration": 12,
    "start_time": "2023-08-18T05:33:10.725Z"
   },
   {
    "duration": 10,
    "start_time": "2023-08-18T05:33:10.738Z"
   },
   {
    "duration": 7,
    "start_time": "2023-08-18T05:33:10.750Z"
   },
   {
    "duration": 13,
    "start_time": "2023-08-18T05:33:10.759Z"
   },
   {
    "duration": 5867,
    "start_time": "2023-08-18T05:33:10.774Z"
   },
   {
    "duration": 133,
    "start_time": "2023-08-18T05:33:16.642Z"
   },
   {
    "duration": 178,
    "start_time": "2023-08-18T05:33:16.777Z"
   },
   {
    "duration": 7,
    "start_time": "2023-08-18T05:33:16.959Z"
   },
   {
    "duration": 6,
    "start_time": "2023-08-18T05:33:16.968Z"
   },
   {
    "duration": 38,
    "start_time": "2023-08-18T05:33:16.975Z"
   },
   {
    "duration": 45,
    "start_time": "2023-08-18T05:33:17.015Z"
   },
   {
    "duration": 5989,
    "start_time": "2023-08-18T05:33:17.062Z"
   },
   {
    "duration": 24,
    "start_time": "2023-08-18T05:33:23.059Z"
   },
   {
    "duration": 74,
    "start_time": "2023-08-18T05:33:23.085Z"
   },
   {
    "duration": 98,
    "start_time": "2023-08-18T05:33:23.161Z"
   },
   {
    "duration": 8264,
    "start_time": "2023-08-18T05:33:23.261Z"
   },
   {
    "duration": 33,
    "start_time": "2023-08-18T05:33:31.527Z"
   },
   {
    "duration": 108,
    "start_time": "2023-08-18T05:33:31.564Z"
   },
   {
    "duration": 4079,
    "start_time": "2023-08-18T05:33:31.674Z"
   },
   {
    "duration": 102,
    "start_time": "2023-08-18T05:33:35.758Z"
   },
   {
    "duration": 301,
    "start_time": "2023-08-18T05:33:35.864Z"
   },
   {
    "duration": 7443,
    "start_time": "2023-08-18T05:33:36.167Z"
   },
   {
    "duration": 4,
    "start_time": "2023-08-18T05:33:43.612Z"
   },
   {
    "duration": 23,
    "start_time": "2023-08-18T05:33:43.618Z"
   },
   {
    "duration": 17,
    "start_time": "2023-08-18T05:33:43.643Z"
   },
   {
    "duration": 7,
    "start_time": "2023-08-18T05:33:43.661Z"
   },
   {
    "duration": 407,
    "start_time": "2023-08-18T05:33:43.670Z"
   },
   {
    "duration": 11,
    "start_time": "2023-08-18T05:33:44.081Z"
   },
   {
    "duration": 366,
    "start_time": "2023-08-18T05:36:24.941Z"
   },
   {
    "duration": 8860,
    "start_time": "2023-08-18T05:36:51.430Z"
   },
   {
    "duration": 6,
    "start_time": "2023-08-18T05:37:05.598Z"
   },
   {
    "duration": 4,
    "start_time": "2023-08-18T05:37:09.093Z"
   },
   {
    "duration": 5,
    "start_time": "2023-08-18T05:37:11.374Z"
   },
   {
    "duration": 427,
    "start_time": "2023-08-18T05:37:29.293Z"
   },
   {
    "duration": 8672,
    "start_time": "2023-08-18T05:37:42.448Z"
   },
   {
    "duration": 5,
    "start_time": "2023-08-18T05:37:59.234Z"
   },
   {
    "duration": 5,
    "start_time": "2023-08-18T05:38:00.090Z"
   },
   {
    "duration": 5,
    "start_time": "2023-08-18T05:38:00.842Z"
   },
   {
    "duration": 1363,
    "start_time": "2023-08-18T05:38:09.191Z"
   },
   {
    "duration": 42,
    "start_time": "2023-08-18T05:38:10.556Z"
   },
   {
    "duration": 18,
    "start_time": "2023-08-18T05:38:10.600Z"
   },
   {
    "duration": 20,
    "start_time": "2023-08-18T05:38:10.620Z"
   },
   {
    "duration": 26,
    "start_time": "2023-08-18T05:38:10.643Z"
   },
   {
    "duration": 8,
    "start_time": "2023-08-18T05:38:10.671Z"
   },
   {
    "duration": 13,
    "start_time": "2023-08-18T05:38:10.681Z"
   },
   {
    "duration": 11,
    "start_time": "2023-08-18T05:38:10.696Z"
   },
   {
    "duration": 64,
    "start_time": "2023-08-18T05:38:10.708Z"
   },
   {
    "duration": 6,
    "start_time": "2023-08-18T05:38:10.774Z"
   },
   {
    "duration": 23,
    "start_time": "2023-08-18T05:38:10.781Z"
   },
   {
    "duration": 5,
    "start_time": "2023-08-18T05:38:10.805Z"
   },
   {
    "duration": 52,
    "start_time": "2023-08-18T05:38:10.811Z"
   },
   {
    "duration": 19,
    "start_time": "2023-08-18T05:38:10.866Z"
   },
   {
    "duration": 18,
    "start_time": "2023-08-18T05:38:10.886Z"
   },
   {
    "duration": 9,
    "start_time": "2023-08-18T05:38:10.905Z"
   },
   {
    "duration": 25,
    "start_time": "2023-08-18T05:38:10.916Z"
   },
   {
    "duration": 5772,
    "start_time": "2023-08-18T05:38:10.942Z"
   },
   {
    "duration": 121,
    "start_time": "2023-08-18T05:38:16.716Z"
   },
   {
    "duration": 160,
    "start_time": "2023-08-18T05:38:16.839Z"
   },
   {
    "duration": 8,
    "start_time": "2023-08-18T05:38:17.001Z"
   },
   {
    "duration": 18,
    "start_time": "2023-08-18T05:38:17.011Z"
   },
   {
    "duration": 49,
    "start_time": "2023-08-18T05:38:17.031Z"
   },
   {
    "duration": 79,
    "start_time": "2023-08-18T05:38:17.082Z"
   },
   {
    "duration": 5866,
    "start_time": "2023-08-18T05:38:17.162Z"
   },
   {
    "duration": 35,
    "start_time": "2023-08-18T05:38:23.030Z"
   },
   {
    "duration": 93,
    "start_time": "2023-08-18T05:38:23.068Z"
   },
   {
    "duration": 99,
    "start_time": "2023-08-18T05:38:23.164Z"
   },
   {
    "duration": 7655,
    "start_time": "2023-08-18T05:38:23.265Z"
   },
   {
    "duration": 39,
    "start_time": "2023-08-18T05:38:30.922Z"
   },
   {
    "duration": 102,
    "start_time": "2023-08-18T05:38:30.962Z"
   },
   {
    "duration": 3805,
    "start_time": "2023-08-18T05:38:31.066Z"
   },
   {
    "duration": 92,
    "start_time": "2023-08-18T05:38:34.873Z"
   },
   {
    "duration": 297,
    "start_time": "2023-08-18T05:38:34.967Z"
   },
   {
    "duration": 7157,
    "start_time": "2023-08-18T05:38:35.265Z"
   },
   {
    "duration": 4,
    "start_time": "2023-08-18T05:38:42.424Z"
   },
   {
    "duration": 11,
    "start_time": "2023-08-18T05:38:42.429Z"
   },
   {
    "duration": 7,
    "start_time": "2023-08-18T05:38:42.441Z"
   },
   {
    "duration": 353,
    "start_time": "2023-08-18T05:38:42.460Z"
   },
   {
    "duration": 5,
    "start_time": "2023-08-18T05:38:42.814Z"
   },
   {
    "duration": 366,
    "start_time": "2023-08-18T05:38:42.823Z"
   },
   {
    "duration": 6,
    "start_time": "2023-08-18T05:38:43.191Z"
   },
   {
    "duration": 348,
    "start_time": "2023-08-18T05:39:51.486Z"
   },
   {
    "duration": 1406,
    "start_time": "2023-08-18T05:40:05.369Z"
   },
   {
    "duration": 42,
    "start_time": "2023-08-18T05:40:06.778Z"
   },
   {
    "duration": 20,
    "start_time": "2023-08-18T05:40:06.821Z"
   },
   {
    "duration": 14,
    "start_time": "2023-08-18T05:40:06.842Z"
   },
   {
    "duration": 24,
    "start_time": "2023-08-18T05:40:06.858Z"
   },
   {
    "duration": 9,
    "start_time": "2023-08-18T05:40:06.883Z"
   },
   {
    "duration": 22,
    "start_time": "2023-08-18T05:40:06.893Z"
   },
   {
    "duration": 11,
    "start_time": "2023-08-18T05:40:06.917Z"
   },
   {
    "duration": 60,
    "start_time": "2023-08-18T05:40:06.930Z"
   },
   {
    "duration": 6,
    "start_time": "2023-08-18T05:40:06.991Z"
   },
   {
    "duration": 28,
    "start_time": "2023-08-18T05:40:06.999Z"
   },
   {
    "duration": 4,
    "start_time": "2023-08-18T05:40:07.028Z"
   },
   {
    "duration": 25,
    "start_time": "2023-08-18T05:40:07.034Z"
   },
   {
    "duration": 12,
    "start_time": "2023-08-18T05:40:07.063Z"
   },
   {
    "duration": 10,
    "start_time": "2023-08-18T05:40:07.077Z"
   },
   {
    "duration": 10,
    "start_time": "2023-08-18T05:40:07.089Z"
   },
   {
    "duration": 6,
    "start_time": "2023-08-18T05:40:07.101Z"
   },
   {
    "duration": 5647,
    "start_time": "2023-08-18T05:40:07.109Z"
   },
   {
    "duration": 116,
    "start_time": "2023-08-18T05:40:12.759Z"
   },
   {
    "duration": 151,
    "start_time": "2023-08-18T05:40:12.877Z"
   },
   {
    "duration": 8,
    "start_time": "2023-08-18T05:40:13.030Z"
   },
   {
    "duration": 19,
    "start_time": "2023-08-18T05:40:13.041Z"
   },
   {
    "duration": 37,
    "start_time": "2023-08-18T05:40:13.062Z"
   },
   {
    "duration": 62,
    "start_time": "2023-08-18T05:40:13.101Z"
   },
   {
    "duration": 5942,
    "start_time": "2023-08-18T05:40:13.164Z"
   },
   {
    "duration": 55,
    "start_time": "2023-08-18T05:40:19.107Z"
   },
   {
    "duration": 5,
    "start_time": "2023-08-18T05:40:19.164Z"
   },
   {
    "duration": 25,
    "start_time": "2023-08-18T05:40:19.260Z"
   },
   {
    "duration": 7642,
    "start_time": "2023-08-18T05:40:19.287Z"
   },
   {
    "duration": 130,
    "start_time": "2023-08-18T05:40:26.931Z"
   },
   {
    "duration": 100,
    "start_time": "2023-08-18T05:40:27.066Z"
   },
   {
    "duration": 3866,
    "start_time": "2023-08-18T05:40:27.168Z"
   },
   {
    "duration": 25,
    "start_time": "2023-08-18T05:40:31.036Z"
   },
   {
    "duration": 401,
    "start_time": "2023-08-18T05:40:31.063Z"
   },
   {
    "duration": 7242,
    "start_time": "2023-08-18T05:40:31.466Z"
   },
   {
    "duration": 4,
    "start_time": "2023-08-18T05:40:38.709Z"
   },
   {
    "duration": 16,
    "start_time": "2023-08-18T05:40:38.715Z"
   },
   {
    "duration": 15,
    "start_time": "2023-08-18T05:40:38.732Z"
   },
   {
    "duration": 298,
    "start_time": "2023-08-18T05:40:38.748Z"
   },
   {
    "duration": 14,
    "start_time": "2023-08-18T05:40:39.048Z"
   },
   {
    "duration": 331,
    "start_time": "2023-08-18T05:40:39.065Z"
   },
   {
    "duration": 6,
    "start_time": "2023-08-18T05:40:39.397Z"
   },
   {
    "duration": 37,
    "start_time": "2023-08-18T05:45:32.530Z"
   },
   {
    "duration": 25,
    "start_time": "2023-08-18T05:45:42.275Z"
   },
   {
    "duration": 109,
    "start_time": "2023-08-18T05:45:52.503Z"
   },
   {
    "duration": 34,
    "start_time": "2023-08-18T05:46:52.925Z"
   },
   {
    "duration": 3,
    "start_time": "2023-08-18T05:47:36.245Z"
   },
   {
    "duration": 40,
    "start_time": "2023-08-18T05:47:37.319Z"
   },
   {
    "duration": 14,
    "start_time": "2023-08-18T05:47:38.403Z"
   },
   {
    "duration": 12,
    "start_time": "2023-08-18T05:47:39.016Z"
   },
   {
    "duration": 24,
    "start_time": "2023-08-18T05:47:40.587Z"
   },
   {
    "duration": 7,
    "start_time": "2023-08-18T05:47:41.701Z"
   },
   {
    "duration": 12,
    "start_time": "2023-08-18T05:47:42.502Z"
   },
   {
    "duration": 11,
    "start_time": "2023-08-18T05:47:42.885Z"
   },
   {
    "duration": 42,
    "start_time": "2023-08-18T05:47:43.497Z"
   },
   {
    "duration": 8,
    "start_time": "2023-08-18T05:47:45.767Z"
   },
   {
    "duration": 19,
    "start_time": "2023-08-18T05:47:48.691Z"
   },
   {
    "duration": 4,
    "start_time": "2023-08-18T05:47:50.538Z"
   },
   {
    "duration": 10,
    "start_time": "2023-08-18T05:47:51.533Z"
   },
   {
    "duration": 12,
    "start_time": "2023-08-18T05:47:54.504Z"
   },
   {
    "duration": 8,
    "start_time": "2023-08-18T05:47:55.752Z"
   },
   {
    "duration": 8,
    "start_time": "2023-08-18T05:47:56.221Z"
   },
   {
    "duration": 8,
    "start_time": "2023-08-18T05:47:56.782Z"
   },
   {
    "duration": 5885,
    "start_time": "2023-08-18T05:48:01.535Z"
   },
   {
    "duration": 233,
    "start_time": "2023-08-18T05:49:18.002Z"
   },
   {
    "duration": 142,
    "start_time": "2023-08-18T05:49:20.704Z"
   },
   {
    "duration": 8,
    "start_time": "2023-08-18T05:49:26.798Z"
   },
   {
    "duration": 6,
    "start_time": "2023-08-18T05:49:27.701Z"
   },
   {
    "duration": 32,
    "start_time": "2023-08-18T05:49:38.561Z"
   },
   {
    "duration": 26,
    "start_time": "2023-08-18T05:49:41.092Z"
   },
   {
    "duration": 6036,
    "start_time": "2023-08-18T05:50:01.458Z"
   },
   {
    "duration": 22,
    "start_time": "2023-08-18T05:50:22.737Z"
   },
   {
    "duration": 4,
    "start_time": "2023-08-18T05:50:41.742Z"
   },
   {
    "duration": 1469,
    "start_time": "2023-08-18T05:51:39.084Z"
   },
   {
    "duration": 42,
    "start_time": "2023-08-18T05:51:40.555Z"
   },
   {
    "duration": 20,
    "start_time": "2023-08-18T05:51:40.599Z"
   },
   {
    "duration": 13,
    "start_time": "2023-08-18T05:51:40.622Z"
   },
   {
    "duration": 30,
    "start_time": "2023-08-18T05:51:40.637Z"
   },
   {
    "duration": 8,
    "start_time": "2023-08-18T05:51:40.669Z"
   },
   {
    "duration": 13,
    "start_time": "2023-08-18T05:51:40.679Z"
   },
   {
    "duration": 11,
    "start_time": "2023-08-18T05:51:40.693Z"
   },
   {
    "duration": 65,
    "start_time": "2023-08-18T05:51:40.706Z"
   },
   {
    "duration": 6,
    "start_time": "2023-08-18T05:51:40.773Z"
   },
   {
    "duration": 25,
    "start_time": "2023-08-18T05:51:40.781Z"
   },
   {
    "duration": 5,
    "start_time": "2023-08-18T05:51:40.807Z"
   },
   {
    "duration": 15,
    "start_time": "2023-08-18T05:51:40.813Z"
   },
   {
    "duration": 12,
    "start_time": "2023-08-18T05:51:40.829Z"
   },
   {
    "duration": 9,
    "start_time": "2023-08-18T05:51:40.860Z"
   },
   {
    "duration": 7,
    "start_time": "2023-08-18T05:51:40.871Z"
   },
   {
    "duration": 6,
    "start_time": "2023-08-18T05:51:40.880Z"
   },
   {
    "duration": 5943,
    "start_time": "2023-08-18T05:51:40.888Z"
   },
   {
    "duration": 218,
    "start_time": "2023-08-18T05:51:46.833Z"
   },
   {
    "duration": 155,
    "start_time": "2023-08-18T05:51:47.053Z"
   },
   {
    "duration": 7,
    "start_time": "2023-08-18T05:51:47.210Z"
   },
   {
    "duration": 22,
    "start_time": "2023-08-18T05:51:47.219Z"
   },
   {
    "duration": 109,
    "start_time": "2023-08-18T05:51:47.242Z"
   },
   {
    "duration": 0,
    "start_time": "2023-08-18T05:51:47.353Z"
   },
   {
    "duration": 0,
    "start_time": "2023-08-18T05:51:47.354Z"
   },
   {
    "duration": 0,
    "start_time": "2023-08-18T05:51:47.359Z"
   },
   {
    "duration": 0,
    "start_time": "2023-08-18T05:51:47.360Z"
   },
   {
    "duration": 0,
    "start_time": "2023-08-18T05:51:47.361Z"
   },
   {
    "duration": 0,
    "start_time": "2023-08-18T05:51:47.362Z"
   },
   {
    "duration": 0,
    "start_time": "2023-08-18T05:51:47.364Z"
   },
   {
    "duration": 0,
    "start_time": "2023-08-18T05:51:47.365Z"
   },
   {
    "duration": 0,
    "start_time": "2023-08-18T05:51:47.366Z"
   },
   {
    "duration": 0,
    "start_time": "2023-08-18T05:51:47.367Z"
   },
   {
    "duration": 0,
    "start_time": "2023-08-18T05:51:47.368Z"
   },
   {
    "duration": 0,
    "start_time": "2023-08-18T05:51:47.369Z"
   },
   {
    "duration": 0,
    "start_time": "2023-08-18T05:51:47.370Z"
   },
   {
    "duration": 0,
    "start_time": "2023-08-18T05:51:47.371Z"
   },
   {
    "duration": 0,
    "start_time": "2023-08-18T05:51:47.372Z"
   },
   {
    "duration": 0,
    "start_time": "2023-08-18T05:51:47.373Z"
   },
   {
    "duration": 0,
    "start_time": "2023-08-18T05:51:47.375Z"
   },
   {
    "duration": 0,
    "start_time": "2023-08-18T05:51:47.376Z"
   },
   {
    "duration": 1463,
    "start_time": "2023-08-18T05:52:12.769Z"
   },
   {
    "duration": 46,
    "start_time": "2023-08-18T05:52:14.235Z"
   },
   {
    "duration": 24,
    "start_time": "2023-08-18T05:52:14.283Z"
   },
   {
    "duration": 17,
    "start_time": "2023-08-18T05:52:14.312Z"
   },
   {
    "duration": 37,
    "start_time": "2023-08-18T05:52:14.331Z"
   },
   {
    "duration": 9,
    "start_time": "2023-08-18T05:52:14.369Z"
   },
   {
    "duration": 14,
    "start_time": "2023-08-18T05:52:14.380Z"
   },
   {
    "duration": 38,
    "start_time": "2023-08-18T05:52:14.395Z"
   },
   {
    "duration": 40,
    "start_time": "2023-08-18T05:52:14.435Z"
   },
   {
    "duration": 6,
    "start_time": "2023-08-18T05:52:14.477Z"
   },
   {
    "duration": 21,
    "start_time": "2023-08-18T05:52:14.484Z"
   },
   {
    "duration": 4,
    "start_time": "2023-08-18T05:52:14.507Z"
   },
   {
    "duration": 13,
    "start_time": "2023-08-18T05:52:14.513Z"
   },
   {
    "duration": 35,
    "start_time": "2023-08-18T05:52:14.529Z"
   },
   {
    "duration": 22,
    "start_time": "2023-08-18T05:52:14.566Z"
   },
   {
    "duration": 14,
    "start_time": "2023-08-18T05:52:14.590Z"
   },
   {
    "duration": 9,
    "start_time": "2023-08-18T05:52:14.606Z"
   },
   {
    "duration": 5732,
    "start_time": "2023-08-18T05:52:14.616Z"
   },
   {
    "duration": 228,
    "start_time": "2023-08-18T05:52:20.350Z"
   },
   {
    "duration": 151,
    "start_time": "2023-08-18T05:52:20.580Z"
   },
   {
    "duration": 7,
    "start_time": "2023-08-18T05:52:20.732Z"
   },
   {
    "duration": 21,
    "start_time": "2023-08-18T05:52:20.741Z"
   },
   {
    "duration": 121,
    "start_time": "2023-08-18T05:52:20.763Z"
   },
   {
    "duration": 0,
    "start_time": "2023-08-18T05:52:20.886Z"
   },
   {
    "duration": 0,
    "start_time": "2023-08-18T05:52:20.888Z"
   },
   {
    "duration": 0,
    "start_time": "2023-08-18T05:52:20.889Z"
   },
   {
    "duration": 0,
    "start_time": "2023-08-18T05:52:20.890Z"
   },
   {
    "duration": 0,
    "start_time": "2023-08-18T05:52:20.891Z"
   },
   {
    "duration": 0,
    "start_time": "2023-08-18T05:52:20.892Z"
   },
   {
    "duration": 0,
    "start_time": "2023-08-18T05:52:20.893Z"
   },
   {
    "duration": 0,
    "start_time": "2023-08-18T05:52:20.894Z"
   },
   {
    "duration": 0,
    "start_time": "2023-08-18T05:52:20.895Z"
   },
   {
    "duration": 0,
    "start_time": "2023-08-18T05:52:20.896Z"
   },
   {
    "duration": 0,
    "start_time": "2023-08-18T05:52:20.897Z"
   },
   {
    "duration": 0,
    "start_time": "2023-08-18T05:52:20.898Z"
   },
   {
    "duration": 0,
    "start_time": "2023-08-18T05:52:20.899Z"
   },
   {
    "duration": 0,
    "start_time": "2023-08-18T05:52:20.900Z"
   },
   {
    "duration": 0,
    "start_time": "2023-08-18T05:52:20.901Z"
   },
   {
    "duration": 0,
    "start_time": "2023-08-18T05:52:20.903Z"
   },
   {
    "duration": 0,
    "start_time": "2023-08-18T05:52:20.904Z"
   },
   {
    "duration": 0,
    "start_time": "2023-08-18T05:52:20.905Z"
   },
   {
    "duration": 41,
    "start_time": "2023-08-18T05:53:08.432Z"
   },
   {
    "duration": 1444,
    "start_time": "2023-08-18T05:53:12.964Z"
   },
   {
    "duration": 43,
    "start_time": "2023-08-18T05:53:14.410Z"
   },
   {
    "duration": 19,
    "start_time": "2023-08-18T05:53:14.455Z"
   },
   {
    "duration": 14,
    "start_time": "2023-08-18T05:53:14.476Z"
   },
   {
    "duration": 23,
    "start_time": "2023-08-18T05:53:14.492Z"
   },
   {
    "duration": 8,
    "start_time": "2023-08-18T05:53:14.517Z"
   },
   {
    "duration": 41,
    "start_time": "2023-08-18T05:53:14.526Z"
   },
   {
    "duration": 11,
    "start_time": "2023-08-18T05:53:14.569Z"
   },
   {
    "duration": 41,
    "start_time": "2023-08-18T05:53:14.582Z"
   },
   {
    "duration": 7,
    "start_time": "2023-08-18T05:53:14.626Z"
   },
   {
    "duration": 22,
    "start_time": "2023-08-18T05:53:14.660Z"
   },
   {
    "duration": 5,
    "start_time": "2023-08-18T05:53:14.684Z"
   },
   {
    "duration": 27,
    "start_time": "2023-08-18T05:53:14.691Z"
   },
   {
    "duration": 12,
    "start_time": "2023-08-18T05:53:14.720Z"
   },
   {
    "duration": 24,
    "start_time": "2023-08-18T05:53:14.740Z"
   },
   {
    "duration": 9,
    "start_time": "2023-08-18T05:53:14.765Z"
   },
   {
    "duration": 7,
    "start_time": "2023-08-18T05:53:14.776Z"
   },
   {
    "duration": 5699,
    "start_time": "2023-08-18T05:53:14.785Z"
   },
   {
    "duration": 215,
    "start_time": "2023-08-18T05:53:20.485Z"
   },
   {
    "duration": 152,
    "start_time": "2023-08-18T05:53:20.702Z"
   },
   {
    "duration": 7,
    "start_time": "2023-08-18T05:53:20.858Z"
   },
   {
    "duration": 6,
    "start_time": "2023-08-18T05:53:20.866Z"
   },
   {
    "duration": 37,
    "start_time": "2023-08-18T05:53:20.874Z"
   },
   {
    "duration": 49,
    "start_time": "2023-08-18T05:53:20.913Z"
   },
   {
    "duration": 6033,
    "start_time": "2023-08-18T05:53:20.963Z"
   },
   {
    "duration": 63,
    "start_time": "2023-08-18T05:53:26.998Z"
   },
   {
    "duration": 5,
    "start_time": "2023-08-18T05:53:27.063Z"
   },
   {
    "duration": 8,
    "start_time": "2023-08-18T05:53:27.162Z"
   },
   {
    "duration": 7923,
    "start_time": "2023-08-18T05:53:27.173Z"
   },
   {
    "duration": 65,
    "start_time": "2023-08-18T05:53:35.098Z"
   },
   {
    "duration": 99,
    "start_time": "2023-08-18T05:53:35.166Z"
   },
   {
    "duration": 3724,
    "start_time": "2023-08-18T05:53:35.267Z"
   },
   {
    "duration": 16,
    "start_time": "2023-08-18T05:53:38.993Z"
   },
   {
    "duration": 299,
    "start_time": "2023-08-18T05:53:39.061Z"
   },
   {
    "duration": 7680,
    "start_time": "2023-08-18T05:53:39.362Z"
   },
   {
    "duration": 4,
    "start_time": "2023-08-18T05:53:47.044Z"
   },
   {
    "duration": 10,
    "start_time": "2023-08-18T05:53:47.050Z"
   },
   {
    "duration": 4,
    "start_time": "2023-08-18T05:53:47.061Z"
   },
   {
    "duration": 5,
    "start_time": "2023-08-18T05:53:47.066Z"
   },
   {
    "duration": 353,
    "start_time": "2023-08-18T05:53:47.073Z"
   },
   {
    "duration": 6,
    "start_time": "2023-08-18T05:53:47.429Z"
   },
   {
    "duration": 38,
    "start_time": "2023-08-18T05:56:13.333Z"
   },
   {
    "duration": 296,
    "start_time": "2023-08-18T05:58:04.907Z"
   },
   {
    "duration": 280,
    "start_time": "2023-08-18T06:00:20.371Z"
   },
   {
    "duration": 50,
    "start_time": "2023-08-18T14:00:45.384Z"
   },
   {
    "duration": 1453,
    "start_time": "2023-09-21T06:54:12.162Z"
   },
   {
    "duration": 83,
    "start_time": "2023-09-21T06:54:13.616Z"
   },
   {
    "duration": 22,
    "start_time": "2023-09-21T06:54:13.701Z"
   },
   {
    "duration": 19,
    "start_time": "2023-09-21T06:54:13.726Z"
   },
   {
    "duration": 27,
    "start_time": "2023-09-21T06:54:13.747Z"
   },
   {
    "duration": 11,
    "start_time": "2023-09-21T06:54:13.776Z"
   },
   {
    "duration": 24,
    "start_time": "2023-09-21T06:54:13.793Z"
   },
   {
    "duration": 37,
    "start_time": "2023-09-21T06:54:13.819Z"
   },
   {
    "duration": 42,
    "start_time": "2023-09-21T06:54:13.863Z"
   },
   {
    "duration": 5,
    "start_time": "2023-09-21T06:54:13.907Z"
   },
   {
    "duration": 31,
    "start_time": "2023-09-21T06:54:13.913Z"
   },
   {
    "duration": 4,
    "start_time": "2023-09-21T06:54:13.946Z"
   },
   {
    "duration": 38,
    "start_time": "2023-09-21T06:54:13.952Z"
   },
   {
    "duration": 29,
    "start_time": "2023-09-21T06:54:13.992Z"
   },
   {
    "duration": 23,
    "start_time": "2023-09-21T06:54:14.023Z"
   },
   {
    "duration": 9,
    "start_time": "2023-09-21T06:54:14.047Z"
   },
   {
    "duration": 10,
    "start_time": "2023-09-21T06:54:14.058Z"
   },
   {
    "duration": 5813,
    "start_time": "2023-09-21T06:54:14.070Z"
   },
   {
    "duration": 219,
    "start_time": "2023-09-21T06:54:19.885Z"
   },
   {
    "duration": 149,
    "start_time": "2023-09-21T06:54:20.106Z"
   },
   {
    "duration": 11,
    "start_time": "2023-09-21T06:54:20.257Z"
   },
   {
    "duration": 8,
    "start_time": "2023-09-21T06:54:20.270Z"
   },
   {
    "duration": 75,
    "start_time": "2023-09-21T06:54:20.280Z"
   },
   {
    "duration": 99,
    "start_time": "2023-09-21T06:54:20.357Z"
   },
   {
    "duration": 6066,
    "start_time": "2023-09-21T06:54:20.458Z"
   },
   {
    "duration": 26,
    "start_time": "2023-09-21T06:54:26.526Z"
   },
   {
    "duration": 92,
    "start_time": "2023-09-21T06:54:26.554Z"
   },
   {
    "duration": 109,
    "start_time": "2023-09-21T06:54:26.652Z"
   },
   {
    "duration": 7688,
    "start_time": "2023-09-21T06:54:26.763Z"
   },
   {
    "duration": 95,
    "start_time": "2023-09-21T06:54:34.453Z"
   },
   {
    "duration": 95,
    "start_time": "2023-09-21T06:54:34.551Z"
   },
   {
    "duration": 3767,
    "start_time": "2023-09-21T06:54:34.648Z"
   },
   {
    "duration": 129,
    "start_time": "2023-09-21T06:54:38.416Z"
   },
   {
    "duration": 304,
    "start_time": "2023-09-21T06:54:38.548Z"
   },
   {
    "duration": 7415,
    "start_time": "2023-09-21T06:54:38.854Z"
   },
   {
    "duration": 4,
    "start_time": "2023-09-21T06:54:46.272Z"
   },
   {
    "duration": 7,
    "start_time": "2023-09-21T06:54:46.278Z"
   },
   {
    "duration": 14,
    "start_time": "2023-09-21T06:54:46.286Z"
   },
   {
    "duration": 7,
    "start_time": "2023-09-21T06:54:46.302Z"
   },
   {
    "duration": 309,
    "start_time": "2023-09-21T06:54:46.310Z"
   },
   {
    "duration": 6,
    "start_time": "2023-09-21T06:54:46.621Z"
   }
  ],
  "kernelspec": {
   "display_name": "Python 3 (ipykernel)",
   "language": "python",
   "name": "python3"
  },
  "language_info": {
   "codemirror_mode": {
    "name": "ipython",
    "version": 3
   },
   "file_extension": ".py",
   "mimetype": "text/x-python",
   "name": "python",
   "nbconvert_exporter": "python",
   "pygments_lexer": "ipython3",
   "version": "3.9.5"
  },
  "toc": {
   "base_numbering": 1,
   "nav_menu": {},
   "number_sections": true,
   "sideBar": true,
   "skip_h1_title": true,
   "title_cell": "Содержание",
   "title_sidebar": "Contents",
   "toc_cell": true,
   "toc_position": {},
   "toc_section_display": true,
   "toc_window_display": false
  }
 },
 "nbformat": 4,
 "nbformat_minor": 2
}
